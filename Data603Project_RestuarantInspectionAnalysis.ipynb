{
  "nbformat": 4,
  "nbformat_minor": 0,
  "metadata": {
    "colab": {
      "name": "Data603Project-RestuarantInspectionAnalysis",
      "provenance": [],
      "collapsed_sections": []
    },
    "kernelspec": {
      "name": "python3",
      "display_name": "Python 3"
    }
  },
  "cells": [
    {
      "cell_type": "code",
      "metadata": {
        "id": "lTdWlOLCS8Hu",
        "colab": {
          "base_uri": "https://localhost:8080/"
        },
        "outputId": "7a849372-2ca4-4b67-fd8d-aa972b1a21a5"
      },
      "source": [
        "from google.colab import drive\n",
        "drive.mount('/content/drive')"
      ],
      "execution_count": null,
      "outputs": [
        {
          "output_type": "stream",
          "text": [
            "Drive already mounted at /content/drive; to attempt to forcibly remount, call drive.mount(\"/content/drive\", force_remount=True).\n"
          ],
          "name": "stdout"
        }
      ]
    },
    {
      "cell_type": "code",
      "metadata": {
        "id": "Dgmqq--maqV-"
      },
      "source": [
        "#!pip install missingno"
      ],
      "execution_count": null,
      "outputs": []
    },
    {
      "cell_type": "code",
      "metadata": {
        "id": "ovOc5na7HxBQ"
      },
      "source": [
        "## Coding for the Data 603 Project - Restaurant Inspection Analysis\n",
        "## importing required libraries\n",
        "import pandas as pd\n",
        "import numpy as np\n",
        "import matplotlib.pyplot as plt\n",
        "import missingno as msno"
      ],
      "execution_count": null,
      "outputs": []
    },
    {
      "cell_type": "markdown",
      "metadata": {
        "id": "jKF4huQFTxUI"
      },
      "source": [
        "**Load data in to DataFrames Format**"
      ]
    },
    {
      "cell_type": "code",
      "metadata": {
        "id": "p8I-MwVMTRLX"
      },
      "source": [
        "inspect_df = pd.read_csv('/content/drive/Shareddrives/Data 603 Project/Dataset/FoodInspectionDataset.csv',low_memory=False)\n",
        "review_df = pd.read_csv('/content/drive/Shareddrives/Data 603 Project/Dataset/YELP.Reviews.csv',)"
      ],
      "execution_count": null,
      "outputs": []
    },
    {
      "cell_type": "markdown",
      "metadata": {
        "id": "ck4uw30UZ707"
      },
      "source": [
        "# Exploring Data"
      ]
    },
    {
      "cell_type": "code",
      "metadata": {
        "id": "E9ho5S9owsSJ",
        "colab": {
          "base_uri": "https://localhost:8080/"
        },
        "outputId": "a04b9d89-954e-441d-b161-35a48d3c1ed2"
      },
      "source": [
        "print(\"Number of rows in inspection data set:\",inspect_df.shape[0])\n",
        "print(\"Number of columns in inspection data set:\",inspect_df.shape[1])\n",
        "print(\"Number of rows in review data set:\",review_df.shape[0])\n",
        "print(\"Number of columns in review data set:\",review_df.shape[1])"
      ],
      "execution_count": null,
      "outputs": [
        {
          "output_type": "stream",
          "text": [
            "Number of rows in inspection data set: 637892\n",
            "Number of columns in inspection data set: 26\n",
            "Number of rows in review data set: 467105\n",
            "Number of columns in review data set: 15\n"
          ],
          "name": "stdout"
        }
      ]
    },
    {
      "cell_type": "code",
      "metadata": {
        "id": "HoSib9-RTvjs",
        "colab": {
          "base_uri": "https://localhost:8080/",
          "height": 267
        },
        "outputId": "5be7be8c-0a28-4e5d-a34f-6159dacdba28"
      },
      "source": [
        "inspect_df.head(2)"
      ],
      "execution_count": null,
      "outputs": [
        {
          "output_type": "execute_result",
          "data": {
            "text/html": [
              "<div>\n",
              "<style scoped>\n",
              "    .dataframe tbody tr th:only-of-type {\n",
              "        vertical-align: middle;\n",
              "    }\n",
              "\n",
              "    .dataframe tbody tr th {\n",
              "        vertical-align: top;\n",
              "    }\n",
              "\n",
              "    .dataframe thead th {\n",
              "        text-align: right;\n",
              "    }\n",
              "</style>\n",
              "<table border=\"1\" class=\"dataframe\">\n",
              "  <thead>\n",
              "    <tr style=\"text-align: right;\">\n",
              "      <th></th>\n",
              "      <th>businessname</th>\n",
              "      <th>dbaname</th>\n",
              "      <th>legalowner</th>\n",
              "      <th>namelast</th>\n",
              "      <th>namefirst</th>\n",
              "      <th>licenseno</th>\n",
              "      <th>issdttm</th>\n",
              "      <th>expdttm</th>\n",
              "      <th>licstatus</th>\n",
              "      <th>licensecat</th>\n",
              "      <th>descript</th>\n",
              "      <th>result</th>\n",
              "      <th>resultdttm</th>\n",
              "      <th>violation</th>\n",
              "      <th>viollevel</th>\n",
              "      <th>violdesc</th>\n",
              "      <th>violdttm</th>\n",
              "      <th>violstatus</th>\n",
              "      <th>statusdate</th>\n",
              "      <th>comments</th>\n",
              "      <th>address</th>\n",
              "      <th>city</th>\n",
              "      <th>state</th>\n",
              "      <th>zip</th>\n",
              "      <th>property_id</th>\n",
              "      <th>location</th>\n",
              "    </tr>\n",
              "  </thead>\n",
              "  <tbody>\n",
              "    <tr>\n",
              "      <th>0</th>\n",
              "      <td>100 Percent Delicia Food</td>\n",
              "      <td>NaN</td>\n",
              "      <td>BRENNAN PATRICK E</td>\n",
              "      <td>Marte</td>\n",
              "      <td>Civelis</td>\n",
              "      <td>87059</td>\n",
              "      <td>2013-04-05 12:47:23</td>\n",
              "      <td>2020-12-31 23:59:00</td>\n",
              "      <td>Active</td>\n",
              "      <td>FS</td>\n",
              "      <td>Eating &amp; Drinking</td>\n",
              "      <td>HE_Fail</td>\n",
              "      <td>2013-02-15 12:19:42</td>\n",
              "      <td>15-4-202.16</td>\n",
              "      <td>*</td>\n",
              "      <td>Non-Food Contact Surfaces</td>\n",
              "      <td>2013-02-15 12:19:42</td>\n",
              "      <td>Fail</td>\n",
              "      <td>NaN</td>\n",
              "      <td>Provide glass storage rack.</td>\n",
              "      <td>635   Hyde Park AVE</td>\n",
              "      <td>Roslindale</td>\n",
              "      <td>MA</td>\n",
              "      <td>02131</td>\n",
              "      <td>77476.0</td>\n",
              "      <td>(42.278590000, -71.119440000)</td>\n",
              "    </tr>\n",
              "    <tr>\n",
              "      <th>1</th>\n",
              "      <td>100 Percent Delicia Food</td>\n",
              "      <td>NaN</td>\n",
              "      <td>BRENNAN PATRICK E</td>\n",
              "      <td>Marte</td>\n",
              "      <td>Civelis</td>\n",
              "      <td>87059</td>\n",
              "      <td>2013-04-05 12:47:23</td>\n",
              "      <td>2020-12-31 23:59:00</td>\n",
              "      <td>Active</td>\n",
              "      <td>FS</td>\n",
              "      <td>Eating &amp; Drinking</td>\n",
              "      <td>HE_Fail</td>\n",
              "      <td>2013-02-15 12:19:42</td>\n",
              "      <td>16-4-501.11/.15</td>\n",
              "      <td>*</td>\n",
              "      <td>Dishwashng Facilities</td>\n",
              "      <td>2013-02-15 12:19:42</td>\n",
              "      <td>Fail</td>\n",
              "      <td>NaN</td>\n",
              "      <td>Provide dish rack over 3 bay sink to replace m...</td>\n",
              "      <td>635   Hyde Park AVE</td>\n",
              "      <td>Roslindale</td>\n",
              "      <td>MA</td>\n",
              "      <td>02131</td>\n",
              "      <td>77476.0</td>\n",
              "      <td>(42.278590000, -71.119440000)</td>\n",
              "    </tr>\n",
              "  </tbody>\n",
              "</table>\n",
              "</div>"
            ],
            "text/plain": [
              "               businessname dbaname  ... property_id                       location\n",
              "0  100 Percent Delicia Food     NaN  ...     77476.0  (42.278590000, -71.119440000)\n",
              "1  100 Percent Delicia Food     NaN  ...     77476.0  (42.278590000, -71.119440000)\n",
              "\n",
              "[2 rows x 26 columns]"
            ]
          },
          "metadata": {
            "tags": []
          },
          "execution_count": 769
        }
      ]
    },
    {
      "cell_type": "code",
      "metadata": {
        "id": "ntVEMsR0UTl2",
        "colab": {
          "base_uri": "https://localhost:8080/",
          "height": 165
        },
        "outputId": "48a213b5-826a-44ca-a73e-be3718646be5"
      },
      "source": [
        "review_df.head(2)"
      ],
      "execution_count": null,
      "outputs": [
        {
          "output_type": "execute_result",
          "data": {
            "text/html": [
              "<div>\n",
              "<style scoped>\n",
              "    .dataframe tbody tr th:only-of-type {\n",
              "        vertical-align: middle;\n",
              "    }\n",
              "\n",
              "    .dataframe tbody tr th {\n",
              "        vertical-align: top;\n",
              "    }\n",
              "\n",
              "    .dataframe thead th {\n",
              "        text-align: right;\n",
              "    }\n",
              "</style>\n",
              "<table border=\"1\" class=\"dataframe\">\n",
              "  <thead>\n",
              "    <tr style=\"text-align: right;\">\n",
              "      <th></th>\n",
              "      <th>restaurant_name</th>\n",
              "      <th>restaurant_ID</th>\n",
              "      <th>review_date</th>\n",
              "      <th>reviewer_name</th>\n",
              "      <th>reviewer_origin</th>\n",
              "      <th>reviewer_profile</th>\n",
              "      <th>history_1</th>\n",
              "      <th>history_2</th>\n",
              "      <th>history_3</th>\n",
              "      <th>history_4</th>\n",
              "      <th>history_5</th>\n",
              "      <th>reviewer_friends</th>\n",
              "      <th>reviewer_reviews</th>\n",
              "      <th>reviewer_photos</th>\n",
              "      <th>reviewer_elite</th>\n",
              "    </tr>\n",
              "  </thead>\n",
              "  <tbody>\n",
              "    <tr>\n",
              "      <th>0</th>\n",
              "      <td>100% Delicias</td>\n",
              "      <td>2</td>\n",
              "      <td>2019-11-30</td>\n",
              "      <td>Chad J.</td>\n",
              "      <td>Pasadena, CA</td>\n",
              "      <td>https://www.yelp.com/user_details?userid=S3dQs...</td>\n",
              "      <td>0.0</td>\n",
              "      <td>0.0</td>\n",
              "      <td>0.0</td>\n",
              "      <td>0.0</td>\n",
              "      <td>0.0</td>\n",
              "      <td>0.0</td>\n",
              "      <td>1.0</td>\n",
              "      <td>0.0</td>\n",
              "      <td>0.0</td>\n",
              "    </tr>\n",
              "    <tr>\n",
              "      <th>1</th>\n",
              "      <td>100% Delicias</td>\n",
              "      <td>2</td>\n",
              "      <td>2018-07-16</td>\n",
              "      <td>Alex V.</td>\n",
              "      <td>Boston, MA</td>\n",
              "      <td>https://www.yelp.com/user_details?userid=wMHEn...</td>\n",
              "      <td>2.0</td>\n",
              "      <td>0.0</td>\n",
              "      <td>0.0</td>\n",
              "      <td>0.0</td>\n",
              "      <td>13.0</td>\n",
              "      <td>1.0</td>\n",
              "      <td>15.0</td>\n",
              "      <td>4.0</td>\n",
              "      <td>0.0</td>\n",
              "    </tr>\n",
              "  </tbody>\n",
              "</table>\n",
              "</div>"
            ],
            "text/plain": [
              "  restaurant_name  restaurant_ID  ... reviewer_photos reviewer_elite\n",
              "0   100% Delicias              2  ...             0.0            0.0\n",
              "1   100% Delicias              2  ...             4.0            0.0\n",
              "\n",
              "[2 rows x 15 columns]"
            ]
          },
          "metadata": {
            "tags": []
          },
          "execution_count": 770
        }
      ]
    },
    {
      "cell_type": "code",
      "metadata": {
        "id": "zkRMJBXeqRpi",
        "colab": {
          "base_uri": "https://localhost:8080/"
        },
        "outputId": "e6b1707e-5c3a-4e29-a0c1-ece4fafbcc78"
      },
      "source": [
        "inspect_df['violdttm']"
      ],
      "execution_count": null,
      "outputs": [
        {
          "output_type": "execute_result",
          "data": {
            "text/plain": [
              "0         2013-02-15 12:19:42\n",
              "1         2013-02-15 12:19:42\n",
              "2         2013-02-15 12:19:42\n",
              "3         2013-02-15 12:19:42\n",
              "4         2013-02-15 12:19:42\n",
              "                 ...         \n",
              "637887    2020-03-11 13:53:43\n",
              "637888    2020-03-11 13:53:43\n",
              "637889    2020-11-24 11:17:35\n",
              "637890    2021-01-28 12:53:26\n",
              "637891    2021-01-28 12:53:26\n",
              "Name: violdttm, Length: 637892, dtype: object"
            ]
          },
          "metadata": {
            "tags": []
          },
          "execution_count": 771
        }
      ]
    },
    {
      "cell_type": "code",
      "metadata": {
        "id": "doG4Ecofp_uO"
      },
      "source": [
        "review_years=list(review_df['review_date'])\n",
        "inspect_years=list(inspect_df['violdttm'])"
      ],
      "execution_count": null,
      "outputs": []
    },
    {
      "cell_type": "code",
      "metadata": {
        "id": "KgxpgxIaNuqO"
      },
      "source": [
        "review_years=[str(x)[0:4]for x in review_years]\n",
        "inspect_years=[str(x)[0:4]for x in inspect_years]"
      ],
      "execution_count": null,
      "outputs": []
    },
    {
      "cell_type": "code",
      "metadata": {
        "id": "svAIEX6LP0MH",
        "colab": {
          "base_uri": "https://localhost:8080/"
        },
        "outputId": "ae117e2a-ee0b-4d0a-8c8e-833dbd90640b"
      },
      "source": [
        "print(len(review_years),len(inspect_years))"
      ],
      "execution_count": null,
      "outputs": [
        {
          "output_type": "stream",
          "text": [
            "467105 637892\n"
          ],
          "name": "stdout"
        }
      ]
    },
    {
      "cell_type": "code",
      "metadata": {
        "id": "uj4vaDJ6Ph8j"
      },
      "source": [
        "plot_years_review=set(review_years)\n",
        "plot_years_inspect=set(inspect_years)"
      ],
      "execution_count": null,
      "outputs": []
    },
    {
      "cell_type": "code",
      "metadata": {
        "id": "Nhx6GZlrPvm5",
        "colab": {
          "base_uri": "https://localhost:8080/"
        },
        "outputId": "7d6f0c0a-4cc2-4b9d-b8ec-5be6cf2ace07"
      },
      "source": [
        "print(len(plot_years_review),len(plot_years_inspect))"
      ],
      "execution_count": null,
      "outputs": [
        {
          "output_type": "stream",
          "text": [
            "18 17\n"
          ],
          "name": "stdout"
        }
      ]
    },
    {
      "cell_type": "code",
      "metadata": {
        "id": "UVh5ovNbP8pb"
      },
      "source": [
        "inspect_years_dict={}\n",
        "count=0\n",
        "for x in plot_years_inspect:\n",
        "  count=inspect_years.count(x)\n",
        "  inspect_years_dict[x]=count"
      ],
      "execution_count": null,
      "outputs": []
    },
    {
      "cell_type": "code",
      "metadata": {
        "id": "MxLnV8EHTH41"
      },
      "source": [
        "review_years_dict={}\n",
        "count=0\n",
        "for x in plot_years_review:\n",
        "  count=review_years.count(x)\n",
        "  review_years_dict[x]=count"
      ],
      "execution_count": null,
      "outputs": []
    },
    {
      "cell_type": "code",
      "metadata": {
        "id": "TLCK0wJqQt3V",
        "colab": {
          "base_uri": "https://localhost:8080/"
        },
        "outputId": "94abc53d-c9b2-499e-c410-4411adec2b82"
      },
      "source": [
        "inspect_years_dict"
      ],
      "execution_count": null,
      "outputs": [
        {
          "output_type": "execute_result",
          "data": {
            "text/plain": [
              "{' ': 35452,\n",
              " '2006': 8,\n",
              " '2007': 30224,\n",
              " '2008': 47014,\n",
              " '2009': 42799,\n",
              " '2010': 37419,\n",
              " '2011': 34967,\n",
              " '2012': 49005,\n",
              " '2013': 42579,\n",
              " '2014': 47362,\n",
              " '2015': 46261,\n",
              " '2016': 52715,\n",
              " '2017': 41322,\n",
              " '2018': 50960,\n",
              " '2019': 42642,\n",
              " '2020': 29761,\n",
              " '2021': 7402}"
            ]
          },
          "metadata": {
            "tags": []
          },
          "execution_count": 779
        }
      ]
    },
    {
      "cell_type": "code",
      "metadata": {
        "id": "VpKxFY3ERBFN",
        "colab": {
          "base_uri": "https://localhost:8080/"
        },
        "outputId": "c85a0bde-8c73-4583-914b-bd0cabb902c6"
      },
      "source": [
        "inspect_years_dict.pop(' ')"
      ],
      "execution_count": null,
      "outputs": [
        {
          "output_type": "execute_result",
          "data": {
            "text/plain": [
              "35452"
            ]
          },
          "metadata": {
            "tags": []
          },
          "execution_count": 780
        }
      ]
    },
    {
      "cell_type": "code",
      "metadata": {
        "id": "MDd2W9_yRLaj",
        "colab": {
          "base_uri": "https://localhost:8080/"
        },
        "outputId": "016ecd81-7aad-4bb8-ce13-1f33cf3989f0"
      },
      "source": [
        "inspect_years_dict"
      ],
      "execution_count": null,
      "outputs": [
        {
          "output_type": "execute_result",
          "data": {
            "text/plain": [
              "{'2006': 8,\n",
              " '2007': 30224,\n",
              " '2008': 47014,\n",
              " '2009': 42799,\n",
              " '2010': 37419,\n",
              " '2011': 34967,\n",
              " '2012': 49005,\n",
              " '2013': 42579,\n",
              " '2014': 47362,\n",
              " '2015': 46261,\n",
              " '2016': 52715,\n",
              " '2017': 41322,\n",
              " '2018': 50960,\n",
              " '2019': 42642,\n",
              " '2020': 29761,\n",
              " '2021': 7402}"
            ]
          },
          "metadata": {
            "tags": []
          },
          "execution_count": 781
        }
      ]
    },
    {
      "cell_type": "code",
      "metadata": {
        "id": "Mau_ChN1ZM1X"
      },
      "source": [
        "year_inspect=pd.DataFrame(list(inspect_years_dict.items()),columns=['Year','Data'])"
      ],
      "execution_count": null,
      "outputs": []
    },
    {
      "cell_type": "code",
      "metadata": {
        "id": "TRKnXN0EYJlt"
      },
      "source": [
        "year_inspect['Year']=year_inspect['Year'].astype(int)\n",
        "year_inspect['Data']=year_inspect['Data'].astype(int)"
      ],
      "execution_count": null,
      "outputs": []
    },
    {
      "cell_type": "code",
      "metadata": {
        "id": "gAYGN_WZaetR",
        "colab": {
          "base_uri": "https://localhost:8080/"
        },
        "outputId": "eac5d9ed-b9c0-4e01-89d6-9862a8df2b0c"
      },
      "source": [
        "year_inspect.dtypes"
      ],
      "execution_count": null,
      "outputs": [
        {
          "output_type": "execute_result",
          "data": {
            "text/plain": [
              "Year    int64\n",
              "Data    int64\n",
              "dtype: object"
            ]
          },
          "metadata": {
            "tags": []
          },
          "execution_count": 784
        }
      ]
    },
    {
      "cell_type": "code",
      "metadata": {
        "id": "8YZmTHZaSPHP",
        "colab": {
          "base_uri": "https://localhost:8080/"
        },
        "outputId": "bad50c73-f506-4bf6-af67-c82d3e13166a"
      },
      "source": [
        "review_years_dict"
      ],
      "execution_count": null,
      "outputs": [
        {
          "output_type": "execute_result",
          "data": {
            "text/plain": [
              "{'2004': 4,\n",
              " '2005': 1093,\n",
              " '2006': 3012,\n",
              " '2007': 6654,\n",
              " '2008': 11500,\n",
              " '2009': 15896,\n",
              " '2010': 21445,\n",
              " '2011': 27354,\n",
              " '2012': 27961,\n",
              " '2013': 31198,\n",
              " '2014': 39730,\n",
              " '2015': 45379,\n",
              " '2016': 50889,\n",
              " '2017': 55833,\n",
              " '2018': 58014,\n",
              " '2019': 55900,\n",
              " '2020': 14887,\n",
              " 'nan': 356}"
            ]
          },
          "metadata": {
            "tags": []
          },
          "execution_count": 785
        }
      ]
    },
    {
      "cell_type": "code",
      "metadata": {
        "id": "mxFmY50gUTE1",
        "colab": {
          "base_uri": "https://localhost:8080/"
        },
        "outputId": "a835085e-df07-4eb0-cb11-73299ce24799"
      },
      "source": [
        "review_years_dict.pop('nan')"
      ],
      "execution_count": null,
      "outputs": [
        {
          "output_type": "execute_result",
          "data": {
            "text/plain": [
              "356"
            ]
          },
          "metadata": {
            "tags": []
          },
          "execution_count": 786
        }
      ]
    },
    {
      "cell_type": "code",
      "metadata": {
        "id": "WKMjLIomUWsk",
        "colab": {
          "base_uri": "https://localhost:8080/"
        },
        "outputId": "2ac84b93-9da3-429c-cf82-f24de0d8f1ae"
      },
      "source": [
        "review_years_dict"
      ],
      "execution_count": null,
      "outputs": [
        {
          "output_type": "execute_result",
          "data": {
            "text/plain": [
              "{'2004': 4,\n",
              " '2005': 1093,\n",
              " '2006': 3012,\n",
              " '2007': 6654,\n",
              " '2008': 11500,\n",
              " '2009': 15896,\n",
              " '2010': 21445,\n",
              " '2011': 27354,\n",
              " '2012': 27961,\n",
              " '2013': 31198,\n",
              " '2014': 39730,\n",
              " '2015': 45379,\n",
              " '2016': 50889,\n",
              " '2017': 55833,\n",
              " '2018': 58014,\n",
              " '2019': 55900,\n",
              " '2020': 14887}"
            ]
          },
          "metadata": {
            "tags": []
          },
          "execution_count": 787
        }
      ]
    },
    {
      "cell_type": "code",
      "metadata": {
        "id": "KOYmIpzyaovp"
      },
      "source": [
        "year_review=pd.DataFrame(list(review_years_dict.items()),columns=['Year','Data'])"
      ],
      "execution_count": null,
      "outputs": []
    },
    {
      "cell_type": "code",
      "metadata": {
        "id": "Nd1fTb7Iau_e"
      },
      "source": [
        "year_review['Year']=year_review['Year'].astype(int)\n",
        "year_review['Data']=year_review['Data'].astype(int)"
      ],
      "execution_count": null,
      "outputs": []
    },
    {
      "cell_type": "code",
      "metadata": {
        "id": "rXPNmXgVa3aP"
      },
      "source": [
        "year_review=year_review.sort_values('Year')\n",
        "year_inspect=year_inspect.sort_values('Year')"
      ],
      "execution_count": null,
      "outputs": []
    },
    {
      "cell_type": "markdown",
      "metadata": {
        "id": "f-OrOfRxLIhf"
      },
      "source": [
        "# Uncleaned data Vizuali "
      ]
    },
    {
      "cell_type": "code",
      "metadata": {
        "id": "YupvA_AlVV8a",
        "colab": {
          "base_uri": "https://localhost:8080/",
          "height": 548
        },
        "outputId": "1bede30d-3100-4c2a-ff47-ad105c43a1be"
      },
      "source": [
        "plt.figure(figsize=(20,10))\n",
        "plt.bar(list(year_review['Year']),list(year_review['Data']))\n",
        "plt.title('Data available in each year as reviews',fontsize=30)\n",
        "plt.xlabel('Year',fontsize=20)\n",
        "plt.ylabel('Data',fontsize=20)\n",
        "plt.xticks(fontsize= 15)\n",
        "plt.yticks(fontsize= 15)\n",
        "plt.show()"
      ],
      "execution_count": null,
      "outputs": [
        {
          "output_type": "display_data",
          "data": {
            "image/png": "[encoded data removed]",
            "text/plain": [
              "<Figure size 1440x720 with 1 Axes>"
            ]
          },
          "metadata": {
            "tags": [],
            "needs_background": "light"
          }
        }
      ]
    },
    {
      "cell_type": "code",
      "metadata": {
        "id": "0FZAg7YFRzuu",
        "colab": {
          "base_uri": "https://localhost:8080/",
          "height": 545
        },
        "outputId": "3d17a209-1b6d-4bc0-bf7f-2c569a42183a"
      },
      "source": [
        "plt.figure(figsize=(20,10))\n",
        "plt.bar(list(year_inspect['Year']),list(year_inspect['Data']),color = (0.5,0.1,0.5,0.6))\n",
        "plt.title('Data available in each year as Inspection',fontsize=30)\n",
        "plt.xlabel('Year',fontsize=20)\n",
        "plt.ylabel('Data',fontsize=20)\n",
        "plt.xticks(fontsize= 15)\n",
        "plt.yticks(fontsize= 15)\n",
        "plt.show()"
      ],
      "execution_count": null,
      "outputs": [
        {
          "output_type": "display_data",
          "data": {
            "image/png": "[encoded data removed]",
            "text/plain": [
              "<Figure size 1440x720 with 1 Axes>"
            ]
          },
          "metadata": {
            "tags": [],
            "needs_background": "light"
          }
        }
      ]
    },
    {
      "cell_type": "markdown",
      "metadata": {
        "id": "np5UQOvWaKtz"
      },
      "source": [
        "**NAN detection and reacting accordingly**"
      ]
    },
    {
      "cell_type": "code",
      "metadata": {
        "id": "cRylN2Peaa34",
        "colab": {
          "base_uri": "https://localhost:8080/",
          "height": 479
        },
        "outputId": "3e22c38a-a6ee-472d-8123-29ffaebb549a"
      },
      "source": [
        "msno.matrix(review_df)\n",
        "plt.show()"
      ],
      "execution_count": null,
      "outputs": [
        {
          "output_type": "display_data",
          "data": {
            "image/png": "[encoded data removed]",
            "text/plain": [
              "<Figure size 1800x720 with 2 Axes>"
            ]
          },
          "metadata": {
            "tags": [],
            "needs_background": "light"
          }
        }
      ]
    },
    {
      "cell_type": "code",
      "metadata": {
        "id": "tWyYj8_hbC_u",
        "colab": {
          "base_uri": "https://localhost:8080/",
          "height": 466
        },
        "outputId": "0f86d0b9-9050-4cf7-c4bf-5a61638c5203"
      },
      "source": [
        "msno.matrix(inspect_df)\n",
        "plt.show()"
      ],
      "execution_count": null,
      "outputs": [
        {
          "output_type": "display_data",
          "data": {
            "image/png": "[encoded data removed]",
            "text/plain": [
              "<Figure size 1800x720 with 2 Axes>"
            ]
          },
          "metadata": {
            "tags": [],
            "needs_background": "light"
          }
        }
      ]
    },
    {
      "cell_type": "code",
      "metadata": {
        "id": "Bf6AFwnCKVwa"
      },
      "source": [
        "inspect_df=inspect_df.dropna(subset=['violation'])"
      ],
      "execution_count": null,
      "outputs": []
    },
    {
      "cell_type": "code",
      "metadata": {
        "id": "cq0pyZZsKlPD",
        "colab": {
          "base_uri": "https://localhost:8080/"
        },
        "outputId": "a63e3bd9-82d3-44ea-aad5-7880b67e021a"
      },
      "source": [
        "inspect_df.shape"
      ],
      "execution_count": null,
      "outputs": [
        {
          "output_type": "execute_result",
          "data": {
            "text/plain": [
              "(602443, 26)"
            ]
          },
          "metadata": {
            "tags": []
          },
          "execution_count": 796
        }
      ]
    },
    {
      "cell_type": "code",
      "metadata": {
        "id": "5NDHpGu4Ymiy",
        "colab": {
          "base_uri": "https://localhost:8080/",
          "height": 151
        },
        "outputId": "81d81216-6118-4634-d155-33137fbe848f"
      },
      "source": [
        "inspect_df.head(1)"
      ],
      "execution_count": null,
      "outputs": [
        {
          "output_type": "execute_result",
          "data": {
            "text/html": [
              "<div>\n",
              "<style scoped>\n",
              "    .dataframe tbody tr th:only-of-type {\n",
              "        vertical-align: middle;\n",
              "    }\n",
              "\n",
              "    .dataframe tbody tr th {\n",
              "        vertical-align: top;\n",
              "    }\n",
              "\n",
              "    .dataframe thead th {\n",
              "        text-align: right;\n",
              "    }\n",
              "</style>\n",
              "<table border=\"1\" class=\"dataframe\">\n",
              "  <thead>\n",
              "    <tr style=\"text-align: right;\">\n",
              "      <th></th>\n",
              "      <th>businessname</th>\n",
              "      <th>dbaname</th>\n",
              "      <th>legalowner</th>\n",
              "      <th>namelast</th>\n",
              "      <th>namefirst</th>\n",
              "      <th>licenseno</th>\n",
              "      <th>issdttm</th>\n",
              "      <th>expdttm</th>\n",
              "      <th>licstatus</th>\n",
              "      <th>licensecat</th>\n",
              "      <th>descript</th>\n",
              "      <th>result</th>\n",
              "      <th>resultdttm</th>\n",
              "      <th>violation</th>\n",
              "      <th>viollevel</th>\n",
              "      <th>violdesc</th>\n",
              "      <th>violdttm</th>\n",
              "      <th>violstatus</th>\n",
              "      <th>statusdate</th>\n",
              "      <th>comments</th>\n",
              "      <th>address</th>\n",
              "      <th>city</th>\n",
              "      <th>state</th>\n",
              "      <th>zip</th>\n",
              "      <th>property_id</th>\n",
              "      <th>location</th>\n",
              "    </tr>\n",
              "  </thead>\n",
              "  <tbody>\n",
              "    <tr>\n",
              "      <th>0</th>\n",
              "      <td>100 Percent Delicia Food</td>\n",
              "      <td>NaN</td>\n",
              "      <td>BRENNAN PATRICK E</td>\n",
              "      <td>Marte</td>\n",
              "      <td>Civelis</td>\n",
              "      <td>87059</td>\n",
              "      <td>2013-04-05 12:47:23</td>\n",
              "      <td>2020-12-31 23:59:00</td>\n",
              "      <td>Active</td>\n",
              "      <td>FS</td>\n",
              "      <td>Eating &amp; Drinking</td>\n",
              "      <td>HE_Fail</td>\n",
              "      <td>2013-02-15 12:19:42</td>\n",
              "      <td>15-4-202.16</td>\n",
              "      <td>*</td>\n",
              "      <td>Non-Food Contact Surfaces</td>\n",
              "      <td>2013-02-15 12:19:42</td>\n",
              "      <td>Fail</td>\n",
              "      <td>NaN</td>\n",
              "      <td>Provide glass storage rack.</td>\n",
              "      <td>635   Hyde Park AVE</td>\n",
              "      <td>Roslindale</td>\n",
              "      <td>MA</td>\n",
              "      <td>02131</td>\n",
              "      <td>77476.0</td>\n",
              "      <td>(42.278590000, -71.119440000)</td>\n",
              "    </tr>\n",
              "  </tbody>\n",
              "</table>\n",
              "</div>"
            ],
            "text/plain": [
              "               businessname dbaname  ... property_id                       location\n",
              "0  100 Percent Delicia Food     NaN  ...     77476.0  (42.278590000, -71.119440000)\n",
              "\n",
              "[1 rows x 26 columns]"
            ]
          },
          "metadata": {
            "tags": []
          },
          "execution_count": 797
        }
      ]
    },
    {
      "cell_type": "markdown",
      "metadata": {
        "id": "bQTe51OTXZkz"
      },
      "source": [
        "# Function to display number of \"Unique\" values in each column of dataset."
      ]
    },
    {
      "cell_type": "code",
      "metadata": {
        "id": "vNxH5Sb6UkVp"
      },
      "source": [
        "def num_unique_vals(data_frame):\n",
        "  col_val_dict={}\n",
        "  for i in data_frame.columns:\n",
        "    num=data_frame[i].nunique()\n",
        "    col_val_dict[i]=num\n",
        "  return col_val_dict\n"
      ],
      "execution_count": null,
      "outputs": []
    },
    {
      "cell_type": "code",
      "metadata": {
        "id": "pFNN4-yTWfd5",
        "colab": {
          "base_uri": "https://localhost:8080/"
        },
        "outputId": "8ae4326d-4b28-45cb-dd82-f7dbe3e471ec"
      },
      "source": [
        "num_unique_vals(review_df)"
      ],
      "execution_count": null,
      "outputs": [
        {
          "output_type": "execute_result",
          "data": {
            "text/plain": [
              "{'history_1': 167,\n",
              " 'history_2': 263,\n",
              " 'history_3': 568,\n",
              " 'history_4': 819,\n",
              " 'history_5': 614,\n",
              " 'restaurant_ID': 2664,\n",
              " 'restaurant_name': 2348,\n",
              " 'review_date': 5494,\n",
              " 'reviewer_elite': 2,\n",
              " 'reviewer_friends': 1577,\n",
              " 'reviewer_name': 64687,\n",
              " 'reviewer_origin': 11077,\n",
              " 'reviewer_photos': 2704,\n",
              " 'reviewer_profile': 192199,\n",
              " 'reviewer_reviews': 1577}"
            ]
          },
          "metadata": {
            "tags": []
          },
          "execution_count": 799
        }
      ]
    },
    {
      "cell_type": "markdown",
      "metadata": {
        "id": "H0SjwBFPX0l_"
      },
      "source": [
        "# Function displaying Unique values in a column."
      ]
    },
    {
      "cell_type": "code",
      "metadata": {
        "id": "DGtJpCS1YCTc"
      },
      "source": [
        "def unique_vals(data_frame):\n",
        "  col_val_dict={}\n",
        "  for i in data_frame.columns:\n",
        "    values=data_frame[i].unique()\n",
        "    col_val_dict[i]=np.array(values)\n",
        "  return col_val_dict"
      ],
      "execution_count": null,
      "outputs": []
    },
    {
      "cell_type": "markdown",
      "metadata": {
        "id": "yGIJ96aZjYlT"
      },
      "source": [
        "# Merge Data Sets:"
      ]
    },
    {
      "cell_type": "code",
      "metadata": {
        "id": "wBinyEhiaX2o",
        "colab": {
          "base_uri": "https://localhost:8080/",
          "height": 165
        },
        "outputId": "5eb2d9f7-5c2d-4404-ab91-4afd52688219"
      },
      "source": [
        "review_df.head(2)"
      ],
      "execution_count": null,
      "outputs": [
        {
          "output_type": "execute_result",
          "data": {
            "text/html": [
              "<div>\n",
              "<style scoped>\n",
              "    .dataframe tbody tr th:only-of-type {\n",
              "        vertical-align: middle;\n",
              "    }\n",
              "\n",
              "    .dataframe tbody tr th {\n",
              "        vertical-align: top;\n",
              "    }\n",
              "\n",
              "    .dataframe thead th {\n",
              "        text-align: right;\n",
              "    }\n",
              "</style>\n",
              "<table border=\"1\" class=\"dataframe\">\n",
              "  <thead>\n",
              "    <tr style=\"text-align: right;\">\n",
              "      <th></th>\n",
              "      <th>restaurant_name</th>\n",
              "      <th>restaurant_ID</th>\n",
              "      <th>review_date</th>\n",
              "      <th>reviewer_name</th>\n",
              "      <th>reviewer_origin</th>\n",
              "      <th>reviewer_profile</th>\n",
              "      <th>history_1</th>\n",
              "      <th>history_2</th>\n",
              "      <th>history_3</th>\n",
              "      <th>history_4</th>\n",
              "      <th>history_5</th>\n",
              "      <th>reviewer_friends</th>\n",
              "      <th>reviewer_reviews</th>\n",
              "      <th>reviewer_photos</th>\n",
              "      <th>reviewer_elite</th>\n",
              "    </tr>\n",
              "  </thead>\n",
              "  <tbody>\n",
              "    <tr>\n",
              "      <th>0</th>\n",
              "      <td>100% Delicias</td>\n",
              "      <td>2</td>\n",
              "      <td>2019-11-30</td>\n",
              "      <td>Chad J.</td>\n",
              "      <td>Pasadena, CA</td>\n",
              "      <td>https://www.yelp.com/user_details?userid=S3dQs...</td>\n",
              "      <td>0.0</td>\n",
              "      <td>0.0</td>\n",
              "      <td>0.0</td>\n",
              "      <td>0.0</td>\n",
              "      <td>0.0</td>\n",
              "      <td>0.0</td>\n",
              "      <td>1.0</td>\n",
              "      <td>0.0</td>\n",
              "      <td>0.0</td>\n",
              "    </tr>\n",
              "    <tr>\n",
              "      <th>1</th>\n",
              "      <td>100% Delicias</td>\n",
              "      <td>2</td>\n",
              "      <td>2018-07-16</td>\n",
              "      <td>Alex V.</td>\n",
              "      <td>Boston, MA</td>\n",
              "      <td>https://www.yelp.com/user_details?userid=wMHEn...</td>\n",
              "      <td>2.0</td>\n",
              "      <td>0.0</td>\n",
              "      <td>0.0</td>\n",
              "      <td>0.0</td>\n",
              "      <td>13.0</td>\n",
              "      <td>1.0</td>\n",
              "      <td>15.0</td>\n",
              "      <td>4.0</td>\n",
              "      <td>0.0</td>\n",
              "    </tr>\n",
              "  </tbody>\n",
              "</table>\n",
              "</div>"
            ],
            "text/plain": [
              "  restaurant_name  restaurant_ID  ... reviewer_photos reviewer_elite\n",
              "0   100% Delicias              2  ...             0.0            0.0\n",
              "1   100% Delicias              2  ...             4.0            0.0\n",
              "\n",
              "[2 rows x 15 columns]"
            ]
          },
          "metadata": {
            "tags": []
          },
          "execution_count": 801
        }
      ]
    },
    {
      "cell_type": "code",
      "metadata": {
        "id": "skvDHggviAv0",
        "colab": {
          "base_uri": "https://localhost:8080/",
          "height": 267
        },
        "outputId": "5f77e6ec-99e5-483e-fc87-61c89fea15c1"
      },
      "source": [
        "inspect_df.head(2)"
      ],
      "execution_count": null,
      "outputs": [
        {
          "output_type": "execute_result",
          "data": {
            "text/html": [
              "<div>\n",
              "<style scoped>\n",
              "    .dataframe tbody tr th:only-of-type {\n",
              "        vertical-align: middle;\n",
              "    }\n",
              "\n",
              "    .dataframe tbody tr th {\n",
              "        vertical-align: top;\n",
              "    }\n",
              "\n",
              "    .dataframe thead th {\n",
              "        text-align: right;\n",
              "    }\n",
              "</style>\n",
              "<table border=\"1\" class=\"dataframe\">\n",
              "  <thead>\n",
              "    <tr style=\"text-align: right;\">\n",
              "      <th></th>\n",
              "      <th>businessname</th>\n",
              "      <th>dbaname</th>\n",
              "      <th>legalowner</th>\n",
              "      <th>namelast</th>\n",
              "      <th>namefirst</th>\n",
              "      <th>licenseno</th>\n",
              "      <th>issdttm</th>\n",
              "      <th>expdttm</th>\n",
              "      <th>licstatus</th>\n",
              "      <th>licensecat</th>\n",
              "      <th>descript</th>\n",
              "      <th>result</th>\n",
              "      <th>resultdttm</th>\n",
              "      <th>violation</th>\n",
              "      <th>viollevel</th>\n",
              "      <th>violdesc</th>\n",
              "      <th>violdttm</th>\n",
              "      <th>violstatus</th>\n",
              "      <th>statusdate</th>\n",
              "      <th>comments</th>\n",
              "      <th>address</th>\n",
              "      <th>city</th>\n",
              "      <th>state</th>\n",
              "      <th>zip</th>\n",
              "      <th>property_id</th>\n",
              "      <th>location</th>\n",
              "    </tr>\n",
              "  </thead>\n",
              "  <tbody>\n",
              "    <tr>\n",
              "      <th>0</th>\n",
              "      <td>100 Percent Delicia Food</td>\n",
              "      <td>NaN</td>\n",
              "      <td>BRENNAN PATRICK E</td>\n",
              "      <td>Marte</td>\n",
              "      <td>Civelis</td>\n",
              "      <td>87059</td>\n",
              "      <td>2013-04-05 12:47:23</td>\n",
              "      <td>2020-12-31 23:59:00</td>\n",
              "      <td>Active</td>\n",
              "      <td>FS</td>\n",
              "      <td>Eating &amp; Drinking</td>\n",
              "      <td>HE_Fail</td>\n",
              "      <td>2013-02-15 12:19:42</td>\n",
              "      <td>15-4-202.16</td>\n",
              "      <td>*</td>\n",
              "      <td>Non-Food Contact Surfaces</td>\n",
              "      <td>2013-02-15 12:19:42</td>\n",
              "      <td>Fail</td>\n",
              "      <td>NaN</td>\n",
              "      <td>Provide glass storage rack.</td>\n",
              "      <td>635   Hyde Park AVE</td>\n",
              "      <td>Roslindale</td>\n",
              "      <td>MA</td>\n",
              "      <td>02131</td>\n",
              "      <td>77476.0</td>\n",
              "      <td>(42.278590000, -71.119440000)</td>\n",
              "    </tr>\n",
              "    <tr>\n",
              "      <th>1</th>\n",
              "      <td>100 Percent Delicia Food</td>\n",
              "      <td>NaN</td>\n",
              "      <td>BRENNAN PATRICK E</td>\n",
              "      <td>Marte</td>\n",
              "      <td>Civelis</td>\n",
              "      <td>87059</td>\n",
              "      <td>2013-04-05 12:47:23</td>\n",
              "      <td>2020-12-31 23:59:00</td>\n",
              "      <td>Active</td>\n",
              "      <td>FS</td>\n",
              "      <td>Eating &amp; Drinking</td>\n",
              "      <td>HE_Fail</td>\n",
              "      <td>2013-02-15 12:19:42</td>\n",
              "      <td>16-4-501.11/.15</td>\n",
              "      <td>*</td>\n",
              "      <td>Dishwashng Facilities</td>\n",
              "      <td>2013-02-15 12:19:42</td>\n",
              "      <td>Fail</td>\n",
              "      <td>NaN</td>\n",
              "      <td>Provide dish rack over 3 bay sink to replace m...</td>\n",
              "      <td>635   Hyde Park AVE</td>\n",
              "      <td>Roslindale</td>\n",
              "      <td>MA</td>\n",
              "      <td>02131</td>\n",
              "      <td>77476.0</td>\n",
              "      <td>(42.278590000, -71.119440000)</td>\n",
              "    </tr>\n",
              "  </tbody>\n",
              "</table>\n",
              "</div>"
            ],
            "text/plain": [
              "               businessname dbaname  ... property_id                       location\n",
              "0  100 Percent Delicia Food     NaN  ...     77476.0  (42.278590000, -71.119440000)\n",
              "1  100 Percent Delicia Food     NaN  ...     77476.0  (42.278590000, -71.119440000)\n",
              "\n",
              "[2 rows x 26 columns]"
            ]
          },
          "metadata": {
            "tags": []
          },
          "execution_count": 802
        }
      ]
    },
    {
      "cell_type": "code",
      "metadata": {
        "id": "Z5AA132ZlytZ",
        "colab": {
          "base_uri": "https://localhost:8080/"
        },
        "outputId": "d551ff9e-1b1f-4486-8fd6-3380f11d455e"
      },
      "source": [
        "# Comparing Number of restaurants in both data sets\n",
        "print(\"Total number of restaurants present in Reviews data set\",review_df[\"restaurant_name\"].nunique())\n",
        "print(\"Total number of restaurants present in Inspection data set\",inspect_df[\"businessname\"].nunique())\n"
      ],
      "execution_count": null,
      "outputs": [
        {
          "output_type": "stream",
          "text": [
            "Total number of restaurants present in Reviews data set 2348\n",
            "Total number of restaurants present in Inspection data set 6387\n"
          ],
          "name": "stdout"
        }
      ]
    },
    {
      "cell_type": "markdown",
      "metadata": {
        "id": "Lukpu5XenE9i"
      },
      "source": [
        "Observation: Missing data of few restaurants is identified in Riviews data set , In order to maiantain uniform shape eliminating data of few absent restaurants data from Inspection data set"
      ]
    },
    {
      "cell_type": "code",
      "metadata": {
        "id": "2wqXJvu3mrf3"
      },
      "source": [
        "list_inspect=list(inspect_df[\"businessname\"].unique())\n",
        "list_review=list(review_df[\"restaurant_name\"].unique())"
      ],
      "execution_count": null,
      "outputs": []
    },
    {
      "cell_type": "markdown",
      "metadata": {
        "id": "lhT4lsuQzY7L"
      },
      "source": [
        "Extract common restaurants from both datasets"
      ]
    },
    {
      "cell_type": "code",
      "metadata": {
        "id": "2tIRhGTEotID"
      },
      "source": [
        "common_list=[]\n",
        "for i in range(0,len(list_review)):\n",
        "  if list_review[i] in list_inspect:\n",
        "    common_list.append(list_review[i])\n"
      ],
      "execution_count": null,
      "outputs": []
    },
    {
      "cell_type": "code",
      "metadata": {
        "id": "XLdTUEh8pc9C",
        "colab": {
          "base_uri": "https://localhost:8080/"
        },
        "outputId": "2de54109-9660-40d5-d0f8-820b7a78080a"
      },
      "source": [
        "len(common_list)"
      ],
      "execution_count": null,
      "outputs": [
        {
          "output_type": "execute_result",
          "data": {
            "text/plain": [
              "680"
            ]
          },
          "metadata": {
            "tags": []
          },
          "execution_count": 806
        }
      ]
    },
    {
      "cell_type": "code",
      "metadata": {
        "id": "YMUOz0pYxLI6",
        "colab": {
          "base_uri": "https://localhost:8080/"
        },
        "outputId": "34211812-9cc8-4585-de81-61612157bf1d"
      },
      "source": [
        "print(\"Common Restaurants are:\")\n",
        "print(common_list)"
      ],
      "execution_count": null,
      "outputs": [
        {
          "output_type": "stream",
          "text": [
            "Common Restaurants are:\n",
            "['2Twenty2', '49 Social', '753 South', 'Abby Lane', 'Acapulco Mexican Restaurant', 'Aceituna Grill', 'Addis Red Sea', 'Al Mercatino', 'Alcove', 'Ali Baba', 'Alibi', 'All Star Pizza Bar', 'Allston Diner', \"Amelia's Taqueria\", 'Americano Espresso Bar', 'Andalus Pizza & Cafe', \"Andre's Cafe\", \"Anna's Cafe\", \"Anna's Taqueria\", 'Aqua Pazza', 'Arboretum Grill', \"Archie's Place\", 'Ariana Restaurant', 'Article 24', 'Arya Trattoria', 'Ashburton Cafe', 'Asia Wok', 'Asian Too Express', 'Assaggio', 'Asta', 'Au Bon Pain', 'Avana Express Bar', 'Azama Grill', 'Back Bay Sandwich', 'Back Deck', 'Bailey & Sage', 'Bamboo Thai Restaurant', 'Bangkok Express', 'Bangkok Pinto', 'Bani Restaurant', 'Bar Louie', 'Bar Lyon', 'Bar Mercato', 'Bar Mezzana', 'Barracuda Tavern', 'Basho Express', 'Basho Japanese Brasserie', 'Bastille Kitchen', 'Bay Sweets', 'Bean & Leaf Cafe', 'Beantown Pastrami', 'Beantown Pho & Grill', 'Beantown Pub', 'Beijing Cafe', 'Bella Vista', \"Benevento's\", 'Bep Bui', \"Billy's Sub Shop\", 'Bin 26 Enoteca', 'Bistro du Midi', 'Black Lamb', 'Blend', 'Blue Asia Cafe', 'Blue Dragon', 'Blue Hill Cafe', 'Blue Hill House of Pizza', 'Blue Mountain Jamaican Restaurant', 'Blue Nile Restaurant', 'Blue State Coffee', 'Blunch', 'Bocao Latin Flavor', 'Bodega Canal', 'Boloco', 'Bon Appetit Creperie', 'Bon Me', 'Boom Crispy Chicken', 'Bootleg Special', 'Boston Beer Works', 'Boston Fried Chicken', 'Boston House of Pizza', 'Boston Kebab House', 'Boston Kitchen Pizza', 'Boston News Cafe', 'Boston Shawarma', 'Bostonia Public House', 'Bourbon Street Cafe', 'Brassica Kitchen & Cafe', 'Bred', 'Brighton Bodega', 'Brownstone', 'Bubor Cha Cha', 'Buco Trattoria', 'Bukowski Tavern', 'Burger King', 'Buttermilk & Bourbon', 'C&S Tavern', 'Cactus Grill', 'Cafe 26', 'Cafe 472', 'Cafe Beirut', 'Cafe Landwer', 'Cafe Mamtaz', 'Cafe Med', 'Cafeteria Boston', 'Caffe Lil Italy', 'Caffe Nero', 'Caffe Strega', 'Caffe di Marina', 'Canary Square', 'Caribe Restaurant', 'Carrot Flower', 'Casa Razdora', 'Casa Verde', 'Chacarero', \"Charley's Philly Steaks\", \"Charlie's Pizza & Cafe\", 'Chicago Pizza', 'Chickadee', 'Chicken and Rice Guys', 'China Bo', 'China Pearl Restaurant', 'China Sky Restaurant', 'Chinatown Cafe', 'Chipotle Mexican Grill', \"Christo's Pizzeria\", \"Chutney's\", 'Citizen Public House & Oyster Bar', 'Citrus & Salt', 'City Tap House', 'City Winery', 'Clay Pot Cafe', 'Clover Food Lab', 'Cocobeet', \"Comella's\", 'Corner Cafe', 'Corporate Cafe', 'Cosi', 'Country Kitchen', 'Craigie Burger', \"Crazy Dough's Pizza\", 'Crispy Dough Pizzeria', 'Crown Fried Chicken', 'Crudo', 'Crush Pizza', 'Cunard Tavern', 'D Coal Pot', 'D Street Pizza', \"Daddy's Bonetown Burgers\", 'Dana Farber Cancer Institute Cafeteria', 'Dash Cafe', 'Dates & Olives', 'Deli One', 'Deuxave', 'Dine Boston', 'Discovery Cafe', 'Dolphin Bay', \"Domino's Pizza\", 'Dot Cafe', 'Double Chin', 'Doughboy Donuts & Deli', 'Down Home Delivery & Catering', 'Dragon Bowl', 'Dragon Chef East', 'Drink', 'Drydock Cafe', 'Ducali Pizzeria & Bar', 'Dudley Cafe', 'Dumpling King', 'Dumpling Kingdom', 'Dumpling Palace', 'Eagle Hill Cafe', 'Earl of Sandwich', \"Eddy's Restaurant\", \"Effie's Kitchen\", 'El Barrio Mexican Grill', 'El Centro', 'El Dugout', 'El Oriental De Cuba', 'El Palmar Restaurant', 'El Paso Enchiladas', 'El Pelon Taqueria', 'El Rinconcito', 'Elenas Cafe', 'Energize', 'Estragon', 'Ethiopian Cafe', 'Evergreen Eatery', 'Exodus Bagels', 'Explorateur', \"FOUR'S BOSTON\", 'Falafel King', 'Famous Famiglia', 'Fan Fan Bakery', 'Fasika Cafe', 'Felcaro Pizzeria', \"Fenway Johnnie's\", 'Finagle A Bagel', \"Fiorella's Express\", 'Fish Pier Sandwich', \"Fisherman's Net\", \"Fiskie's Cafe\", 'Five Guys', 'Five Horses Tavern', 'Five Spices House', 'Flaming Grill & Buffet', 'Flour Bakery & Cafe', 'Food For The Soul', 'Fort Hill Bar & Grill', 'Frio Rico', 'Fuel America', 'Futago Udon', 'Galway House', 'Genji', 'George Howell Coffee', \"Giacomo's\", 'Ginger Exchange', 'Golden House', 'Good Bite', 'Gourmet China House', 'Grainmaker', 'Granary Tavern', 'Grass Roots Cafe', 'Grasshopper Cafe', 'Great Sushi Express', 'Greek Pizza', 'Green Room Cafe', 'Green T Coffee Shop', 'Grille 705', 'Grove Hall Pizza', 'Gyro City', 'Haju Kitchen', 'Hanmaru', 'Harborside Cafe', 'Hard Rock Cafe', 'Harp & Bard', 'Harpoon Tap Room', \"Harry's All American Breakfast\", \"Harry's Bar & Grill\", 'Harvard Gardens', \"Herrera's Burritos\", 'Home Run Cafe', 'Honeycomb Cafe', 'Hong Kong 888 Cafe', 'Hong Kong At Faneuil Hall', 'Hong Kong Eatery', 'Hot Pot Buffet', 'Hsin Hsin', 'Hulun Beir', 'Ichiban Yakitori Sushi House', 'Imperial Kitchen', 'Invi Restaurant', 'Irashai Sushi and Teriyaki', 'Iron Kitchen', 'Island Creek Oyster Bar', 'Itadaki', 'JP Kitchen', 'Jaho Coffee & Tea', 'Jamaica Mi Hungry', 'Jo Jo Taipei', \"Johnny's Takeaway\", 'Jook Sing Cafe', \"Joseph's Pizzeria\", \"Joshua's Deli\", 'Juice Press', 'Juice and Jazz Cafe', 'KFC', 'Kaju Tofu House', 'Kala Thai Cookery', 'Kamakura', 'Kaze Shabu Shabu', 'Kimchipapi Kitchen', 'Kneeland Cafe', 'Kohi Coffee Company', 'Korean Garden Restaurant', 'Koy', 'La Baguette Marche', 'La Belle Creole Cuisine', 'La Cancun', 'La Catrina', 'La Cuchara Restaurant', 'La Lechonera Restaurant', 'La Mamma Pizza And More', 'La Parrilla', 'La Voile', \"Lambert's Marketplace\", 'Landmark Public House', \"Lani's Pizza\", 'Lanta Asian Cuisine', 'Las Vegas Seafood Restaurant', 'Latinos Restaurant', 'Laughing Monk Cafe', 'Legal Crossing', 'Legal Fish Bowl', 'Legal Harborside', 'Legal Oysteria', 'Legal Sea Foods', \"Lelene's Restaurant\", \"Levi's Restaurant & Lounge\", \"Lilly's Gourmet Pasta Express\", 'Lincoln Bar & Grill', 'Liriano Restaurant', 'Little Caesars', 'Little Dipper', 'Little Pizza King', 'Lobstah On A Roll', 'Local 149', 'Locale', 'Loco Taqueria & Oyster Bar', 'Lola 42', 'Lone Star Taco Bar', 'Los Antojitos Restaurant', 'Lower Mills Tavern', 'Lucca Back Bay', 'Lucca Restaurant & Bar', 'Lucia Ristorante', 'Lucky Rice', \"Lucy's American Tavern\", 'M & M BBQ', 'Ma Maison', \"Magee's Fish House\", 'Mainely Burgers', 'Mala Kungfu', \"Mama's Place\", 'Mandarin House', 'Mangia', \"Maria's Taqueria\", 'Mariel', \"Mario's Pizzeria\", \"Mastro's Ocean Club\", 'Mattapan House of Pizza', \"McDonald's\", 'Mediterranean Home Cooking', 'Mei Mei Restaurant', 'Melodias', 'Menton', 'Meridian Food Market', 'Mi Pueblito Orient Heights', 'Mi Pueblito Restaurant', 'Miel Brasserie', 'Mighty Love Food', 'Mija Cantina & Tequila Bar', \"Mike & Patty's\", \"Mike's Cafe\", 'Milkweed', \"Minina's Cafe\", \"Mirisola's\", 'Miyuki Sushi', \"Molinari's\", \"Molly Moo's\", \"Molly's Farmhouse Coffee\", \"Monica's Trattoria\", 'Montecristo Mexican Grill', \"Moody's Delicatessen & Provisions\", 'Moon Flower House', 'Mother Juice', 'Mud House', 'Mumbai Spice', 'Myers & Chang', 'Mythos Pizza', 'Myung Dong 1st Ave', 'Natif Natal Restaurant', 'Navarrete Restaurant', 'Neponset Cafe', 'New Ho Toy', 'New Hong Kong', 'New Look Restaurant', 'New Market Pizza & Grill', 'New Sushi', 'New York Fried Chicken', 'New York Pizza', 'Next Step Soul Food Cafe', 'Nicholas Sub & Pizza Shop', 'Noodle Barn', 'Noodle Lab', 'Noodles King', \"Norvia's Place\", 'Nos Casa Cafe', 'Nourish Your Soul', 'Nu Flav Restaurant', 'Oasis Restaurant', 'Ogawa Coffee', 'Oishii Boston', 'Olympic House of Pizza', 'Ostra', 'Our Zone', 'PIT STOP', 'Panera Bread', 'Pantry Pizza', 'Panza', 'Pasta Beach', \"Pat's Place\", \"Pauli's\", 'Pavement Coffeehouse', 'Pazza on Porter', 'Penang', 'Peregrine', \"Pete's Dockside\", \"Pete's Seafood\", 'Philadelphia Steak & Hoagie', 'Pho Basil', 'Pho Common', 'Pho Hoa Restaurant', 'Pho Le', 'Pho Pasteur', 'Piattini', 'Picalonga Restaurant', 'Pit Stop Barbecue', 'Pita Kabob', 'Pita Thyme', 'Pizza 24', 'Pizza Days', 'Pizza Hut', 'Pizza Rail', 'Pizza Stop', 'Pizzatalia', 'Pizzeria 260', 'Pokeworks', 'Pollo Campero', 'Pomodoros Italian Kitchen', 'Popover King', 'Porto', 'Post 390', 'Potbelly Sandwich Shop', 'Potluck Cafe', 'Prestige Cuisine', 'Pret A Manger', 'Prieto El Rey De Las Empanadas', 'Pu Pu Restaurant', 'Pueblo Viejo Pupuseria & Mexican Grill', 'Quic Pic BBQ', \"Quincy's Place\", 'RYO Asian Fusion', \"Rebecca's Cafe\", \"Rebel's Guild\", 'Red Barn Coffee Roasters', 'Red Island Restaurant', 'Red Lantern', 'Red White', 'Render Coffee', 'Restaurant Laura', 'Restaurante Cesaria', 'Revolution Health Kitchen', 'Rey Del Pollo', \"Richy's\", 'Right Taste Jamaican Restaurant', 'Rincon Caribeno Restaurant', 'Rinconcito Salvadoreno', \"Rocco's Cucina & Bar\", 'Rock City Pizza', 'Rod Thai Family Taste', \"Rondo's Sub Shop\", 'Rosa Mexicano', 'Rosario Grocery', 'Roslindale Fish Market', 'Rox Diner', 'Roxbury Pizza and Sub Shop', 'Roza Lyons', 'Rustica Pizza', \"Ruth's Chris Steak House\", 'Sabor do Brasil', 'Sabroso Taqueria', 'Safari African Restaurant', 'Saigon Chicken House', 'Saigon Fusion', 'Saigon Hut', 'Sakura Japan', 'Saltie Girl', 'Samurai Express', \"Sandella's Flatbread Cafe\", 'Santo Domingo Restaurant & Cafeteria', 'Sarku Japan', 'Scampo', 'Scoozi', 'Scopa', 'Seiyo', 'Select Oyster Bar', 'Seoul Soulongtang', 'Seven 50 Grille', 'Shabu-Zen', 'Shake Shack', 'Shaking Seafood', 'Shawarma Falafel', 'Shin Hakata Ramen', 'Shojo', \"Shun's Kitchen\", 'Siam Bistro', 'Silk Road Express', \"Slade's Bar & Grill\", 'Society On High', 'Sofia Italian Steakhouse', 'Sol Azteca', 'Somtum Modern Thai Cuisine', 'Sons of Boston', 'Sorelle', 'South End Pizza & Grill', 'South of the Clouds', 'Southern Proper', 'Spicy World', 'Spirit of Boston', 'Spoon Cafe', 'Sportello', 'Sports Depot', 'Spring Shabu-Shabu', 'Spyce', 'Squeeze Juice Company', 'State Street Provisions', 'State Street Sushi', 'Stats Bar & Grille', 'Stefano Sub & Pizza', \"Steve's Greek Cuisine\", 'Stillwater', \"Stoddard's Fine Food & Ale\", 'Storyville', 'Strega Waterfront', 'Style Cafe', 'Su Su Gourmet', 'Subway', \"Sullivan's\", 'Sunny Cafe', 'Supreme Pizza', 'Sushi Kappo', 'Sushi Today', 'Suya Joint All African Cuisine', 'Sweet Rice', 'Swissbakers', 'TGI Fridays', 'Taco Bell', 'Taco Party', 'Taqueria', 'Target Pizza', 'Taste of Eden', 'Tasty BBQ', 'Tasty Burger', 'Tasty Pot', 'Tasty Thai', 'Tatte Bakery & Cafe', 'Tavern In The Square', 'Tavolo', 'Tawakal Halal Cafe', 'Taxi Pool Cafeteria', 'Telegraph Hill', 'Tender Greens', 'Tenoch Mexican', 'Teriyaki House', 'Thai North Restaurant', 'Thai Place', 'Thai Spice', 'Thaitation', 'The Bacon Truck', 'The Bebop', 'The Beehive', 'The Brahmin', 'The Broadway', 'The Bullpen', 'The Butcher Shop', 'The Cheesecake Factory', 'The Daily Catch', 'The Dining Car', 'The Emory', 'The Farmacy Cafe', 'The Friendly Toast', 'The Frogmore', 'The Gallows', 'The Ginger Man', 'The Glenville Stops', 'The Halal Guys', 'The Haven', 'The Industry', 'The Joint', 'The Kitchen Cafe', 'The Merchant', 'The Oceanaire Seafood Room', 'The Old Havana', 'The Oyster Club', 'The Paramount', 'The Playwright', 'The Pour House', 'The Real Deal', 'The Reserve', 'The Spaht', 'The Westland', 'Thinking Cup', 'Tiger Mama', 'Toasted Flats', \"Tony C's Sports Bar & Grill\", \"Tony's Pizzeria\", \"Tony's Place\", 'Top Mix Bar & Kitchen', 'Tora Japanese Restaurant', 'Totto Ramen', 'Trade', 'Tri Seafood Restaurant', 'Trinity', 'Triple Eatery', 'Tu Metapan Restaurant', 'Twelve Hours', 'Two Saints Tavern', 'UFood Grill', 'UNI', 'Uburger', 'Ueno Sushi', \"Ugi's Pizza\", 'Unchained Pizza', 'Unidine Cafe Coffee Bar', 'Union Park Pizza', 'Vaanga', 'Vaisakhi Indian Kitchen', 'Vasquez Pizza & Spanish Food', \"Victoria's Diner\", 'Viga', 'Villa Francesca', 'Villa Fresh Italian Kitchen', 'Villa Mexico Cafe', 'Villa Sombrero Cafe', 'Village Pizza & Grill', 'Village Sushi & Grill', 'Vineyard Grille', 'Viva Burrito', 'Wahlburgers', 'Ward 8', 'Warehouse Bar & Grille', \"Wendy's\", 'West End Pizza', 'West Garden', 'Which Wich', 'Wicked Lobsta', \"Wing's Kitchen\", 'Wings Over Boston', 'Wingz Xpress', 'Wingz and Tingz', 'Wink & Nod', 'Wok N Talk', \"Wong's of Boston\", 'Yamato II', 'Yankee Lobster', 'Yard House', 'Yellow Door Taqueria', 'Yellowbird Chicken', 'Yelus', \"Yely's Coffee Shop\", 'Yoki Express', 'Young Kong Restaurant', 'Yummy Yummy', 'ZC Boston', \"Ziggy's Coffee Bar\", \"Zume's Coffee House\", 'iFresh Noodle', 'Baja Taco Truck', \"Bartleby's Seitan Stand\", 'Better Bagels', 'Committee', 'Deria Express Cafe', \"Edu and Den's Restaurant\", \"Evelyn's Place\", 'Fort Hill Jerk Chicken', 'Fuji at Ink Block', 'Gather', 'Halal Indian Cuisine', 'Hissho Sushi', 'Holly Crab', 'Kikka Sushi', 'La Gran Manzana', 'Las Vegas Express Restaurant', 'Mei Mei Street Kitchen', 'Ming Yu Seafood Inc.', 'Molina Restaurant', \"Murl's Kitchen\", 'Ocean Prime', \"Papa Gino's\", 'Paris Creperie Seaport', 'Penguin Pizza', 'Row 34', 'Spicy Salaa', 'Tianjin Bun House', 'Top Griyo Restaurant', 'Tuscan Kitchen', 'Uno Due Go', 'Vee Vee', 'Vertex Pharmaceuticals Cafe', 'Vikos Pizza & Ribs']\n"
          ],
          "name": "stdout"
        }
      ]
    },
    {
      "cell_type": "code",
      "metadata": {
        "id": "ssF8ucqopjQf"
      },
      "source": [
        "review_final=pd.DataFrame()\n",
        "inspect_final=pd.DataFrame()\n",
        "for i in common_list:\n",
        "  rev=review_df[review_df['restaurant_name']==i]\n",
        "  review_final=review_final.append(rev)\n",
        "  ins=inspect_df[inspect_df['businessname']==i]\n",
        "  inspect_final=inspect_final.append(ins)"
      ],
      "execution_count": null,
      "outputs": []
    },
    {
      "cell_type": "code",
      "metadata": {
        "id": "mW4NrySoz1It",
        "colab": {
          "base_uri": "https://localhost:8080/",
          "height": 309
        },
        "outputId": "da189770-8d75-41fb-cec4-4a23865fe406"
      },
      "source": [
        "review_final.sample(5)"
      ],
      "execution_count": null,
      "outputs": [
        {
          "output_type": "execute_result",
          "data": {
            "text/html": [
              "<div>\n",
              "<style scoped>\n",
              "    .dataframe tbody tr th:only-of-type {\n",
              "        vertical-align: middle;\n",
              "    }\n",
              "\n",
              "    .dataframe tbody tr th {\n",
              "        vertical-align: top;\n",
              "    }\n",
              "\n",
              "    .dataframe thead th {\n",
              "        text-align: right;\n",
              "    }\n",
              "</style>\n",
              "<table border=\"1\" class=\"dataframe\">\n",
              "  <thead>\n",
              "    <tr style=\"text-align: right;\">\n",
              "      <th></th>\n",
              "      <th>restaurant_name</th>\n",
              "      <th>restaurant_ID</th>\n",
              "      <th>review_date</th>\n",
              "      <th>reviewer_name</th>\n",
              "      <th>reviewer_origin</th>\n",
              "      <th>reviewer_profile</th>\n",
              "      <th>history_1</th>\n",
              "      <th>history_2</th>\n",
              "      <th>history_3</th>\n",
              "      <th>history_4</th>\n",
              "      <th>history_5</th>\n",
              "      <th>reviewer_friends</th>\n",
              "      <th>reviewer_reviews</th>\n",
              "      <th>reviewer_photos</th>\n",
              "      <th>reviewer_elite</th>\n",
              "    </tr>\n",
              "  </thead>\n",
              "  <tbody>\n",
              "    <tr>\n",
              "      <th>286341</th>\n",
              "      <td>Pho Basil</td>\n",
              "      <td>2400</td>\n",
              "      <td>2013-09-26</td>\n",
              "      <td>Dolores H.</td>\n",
              "      <td>Boston, MA</td>\n",
              "      <td>https://www.yelp.com/user_details?userid=KtCus...</td>\n",
              "      <td>8.0</td>\n",
              "      <td>7.0</td>\n",
              "      <td>2.0</td>\n",
              "      <td>5.0</td>\n",
              "      <td>19.0</td>\n",
              "      <td>0.0</td>\n",
              "      <td>41.0</td>\n",
              "      <td>0.0</td>\n",
              "      <td>0.0</td>\n",
              "    </tr>\n",
              "    <tr>\n",
              "      <th>198863</th>\n",
              "      <td>Lambert's Marketplace</td>\n",
              "      <td>1728</td>\n",
              "      <td>2010-10-14</td>\n",
              "      <td>Erika K.</td>\n",
              "      <td>Arlington, TX</td>\n",
              "      <td>https://www.yelp.com/user_details?userid=-7pYY...</td>\n",
              "      <td>18.0</td>\n",
              "      <td>26.0</td>\n",
              "      <td>40.0</td>\n",
              "      <td>42.0</td>\n",
              "      <td>53.0</td>\n",
              "      <td>68.0</td>\n",
              "      <td>179.0</td>\n",
              "      <td>13.0</td>\n",
              "      <td>0.0</td>\n",
              "    </tr>\n",
              "    <tr>\n",
              "      <th>375166</th>\n",
              "      <td>The Beehive</td>\n",
              "      <td>3166</td>\n",
              "      <td>2019-05-16</td>\n",
              "      <td>M. C.</td>\n",
              "      <td>Boston, MA</td>\n",
              "      <td>https://www.yelp.com/user_details?userid=H3JSx...</td>\n",
              "      <td>0.0</td>\n",
              "      <td>0.0</td>\n",
              "      <td>1.0</td>\n",
              "      <td>0.0</td>\n",
              "      <td>18.0</td>\n",
              "      <td>0.0</td>\n",
              "      <td>19.0</td>\n",
              "      <td>0.0</td>\n",
              "      <td>0.0</td>\n",
              "    </tr>\n",
              "    <tr>\n",
              "      <th>190524</th>\n",
              "      <td>Kamakura</td>\n",
              "      <td>1636</td>\n",
              "      <td>2019-04-19</td>\n",
              "      <td>Colten N.</td>\n",
              "      <td>Palo Alto, CA</td>\n",
              "      <td>https://www.yelp.com/user_details?userid=nPMTG...</td>\n",
              "      <td>2.0</td>\n",
              "      <td>0.0</td>\n",
              "      <td>0.0</td>\n",
              "      <td>0.0</td>\n",
              "      <td>3.0</td>\n",
              "      <td>2.0</td>\n",
              "      <td>5.0</td>\n",
              "      <td>0.0</td>\n",
              "      <td>0.0</td>\n",
              "    </tr>\n",
              "    <tr>\n",
              "      <th>212496</th>\n",
              "      <td>Local 149</td>\n",
              "      <td>1813</td>\n",
              "      <td>2012-04-11</td>\n",
              "      <td>Beth R.</td>\n",
              "      <td>Boston, MA</td>\n",
              "      <td>https://www.yelp.com/user_details?userid=cLXPb...</td>\n",
              "      <td>10.0</td>\n",
              "      <td>25.0</td>\n",
              "      <td>131.0</td>\n",
              "      <td>179.0</td>\n",
              "      <td>48.0</td>\n",
              "      <td>223.0</td>\n",
              "      <td>393.0</td>\n",
              "      <td>110.0</td>\n",
              "      <td>0.0</td>\n",
              "    </tr>\n",
              "  </tbody>\n",
              "</table>\n",
              "</div>"
            ],
            "text/plain": [
              "              restaurant_name  restaurant_ID  ... reviewer_photos reviewer_elite\n",
              "286341              Pho Basil           2400  ...             0.0            0.0\n",
              "198863  Lambert's Marketplace           1728  ...            13.0            0.0\n",
              "375166            The Beehive           3166  ...             0.0            0.0\n",
              "190524               Kamakura           1636  ...             0.0            0.0\n",
              "212496              Local 149           1813  ...           110.0            0.0\n",
              "\n",
              "[5 rows x 15 columns]"
            ]
          },
          "metadata": {
            "tags": []
          },
          "execution_count": 809
        }
      ]
    },
    {
      "cell_type": "code",
      "metadata": {
        "id": "LN6bOWMLz9m6"
      },
      "source": [
        "inspect_final=inspect_final.sample(10000)\n",
        "review_final=review_final.sample(10000)"
      ],
      "execution_count": null,
      "outputs": []
    },
    {
      "cell_type": "code",
      "metadata": {
        "id": "YMBFxJ4HPJ3J",
        "colab": {
          "base_uri": "https://localhost:8080/"
        },
        "outputId": "a56f278b-f246-4343-d2c2-614b37ce162c"
      },
      "source": [
        "inspect_final.shape"
      ],
      "execution_count": null,
      "outputs": [
        {
          "output_type": "execute_result",
          "data": {
            "text/plain": [
              "(10000, 26)"
            ]
          },
          "metadata": {
            "tags": []
          },
          "execution_count": 811
        }
      ]
    },
    {
      "cell_type": "code",
      "metadata": {
        "id": "PqH4u2W20DCa",
        "colab": {
          "base_uri": "https://localhost:8080/"
        },
        "outputId": "daad8f71-57b1-4b9b-d2c1-686a52e17adc"
      },
      "source": [
        "print(\"Shape of inspection dataset\",inspect_final.shape)\n",
        "print(\"Shape of review data set\",review_final.shape)"
      ],
      "execution_count": null,
      "outputs": [
        {
          "output_type": "stream",
          "text": [
            "Shape of inspection dataset (10000, 26)\n",
            "Shape of review data set (10000, 15)\n"
          ],
          "name": "stdout"
        }
      ]
    },
    {
      "cell_type": "code",
      "metadata": {
        "id": "MNWTBe1g0pVu"
      },
      "source": [
        "inspect_final=inspect_final.reset_index(drop=True)\n",
        "review_final=review_final.reset_index(drop=True)"
      ],
      "execution_count": null,
      "outputs": []
    },
    {
      "cell_type": "code",
      "metadata": {
        "id": "J_-tvjLL1Avi",
        "colab": {
          "base_uri": "https://localhost:8080/"
        },
        "outputId": "d1b35d58-2434-466a-822f-74fc6eeb86a0"
      },
      "source": [
        "inspect_final.shape\n"
      ],
      "execution_count": null,
      "outputs": [
        {
          "output_type": "execute_result",
          "data": {
            "text/plain": [
              "(10000, 26)"
            ]
          },
          "metadata": {
            "tags": []
          },
          "execution_count": 814
        }
      ]
    },
    {
      "cell_type": "code",
      "metadata": {
        "id": "LIpbbX7L1D_f",
        "colab": {
          "base_uri": "https://localhost:8080/",
          "height": 309
        },
        "outputId": "3f7f1aa9-93a3-416b-ee6a-fcaecd530860"
      },
      "source": [
        "review_final.head(5)"
      ],
      "execution_count": null,
      "outputs": [
        {
          "output_type": "execute_result",
          "data": {
            "text/html": [
              "<div>\n",
              "<style scoped>\n",
              "    .dataframe tbody tr th:only-of-type {\n",
              "        vertical-align: middle;\n",
              "    }\n",
              "\n",
              "    .dataframe tbody tr th {\n",
              "        vertical-align: top;\n",
              "    }\n",
              "\n",
              "    .dataframe thead th {\n",
              "        text-align: right;\n",
              "    }\n",
              "</style>\n",
              "<table border=\"1\" class=\"dataframe\">\n",
              "  <thead>\n",
              "    <tr style=\"text-align: right;\">\n",
              "      <th></th>\n",
              "      <th>restaurant_name</th>\n",
              "      <th>restaurant_ID</th>\n",
              "      <th>review_date</th>\n",
              "      <th>reviewer_name</th>\n",
              "      <th>reviewer_origin</th>\n",
              "      <th>reviewer_profile</th>\n",
              "      <th>history_1</th>\n",
              "      <th>history_2</th>\n",
              "      <th>history_3</th>\n",
              "      <th>history_4</th>\n",
              "      <th>history_5</th>\n",
              "      <th>reviewer_friends</th>\n",
              "      <th>reviewer_reviews</th>\n",
              "      <th>reviewer_photos</th>\n",
              "      <th>reviewer_elite</th>\n",
              "    </tr>\n",
              "  </thead>\n",
              "  <tbody>\n",
              "    <tr>\n",
              "      <th>0</th>\n",
              "      <td>Piattini</td>\n",
              "      <td>2411</td>\n",
              "      <td>2016-01-30</td>\n",
              "      <td>Alexie O.</td>\n",
              "      <td>Boston, MA</td>\n",
              "      <td>https://www.yelp.com/user_details?userid=cfDQf...</td>\n",
              "      <td>0.0</td>\n",
              "      <td>1.0</td>\n",
              "      <td>1.0</td>\n",
              "      <td>3.0</td>\n",
              "      <td>9.0</td>\n",
              "      <td>1.0</td>\n",
              "      <td>14.0</td>\n",
              "      <td>6.0</td>\n",
              "      <td>0.0</td>\n",
              "    </tr>\n",
              "    <tr>\n",
              "      <th>1</th>\n",
              "      <td>Menton</td>\n",
              "      <td>1993</td>\n",
              "      <td>2012-04-15</td>\n",
              "      <td>Tammy K.</td>\n",
              "      <td>New York, NY</td>\n",
              "      <td>https://www.yelp.com/user_details?userid=0EwPO...</td>\n",
              "      <td>0.0</td>\n",
              "      <td>2.0</td>\n",
              "      <td>39.0</td>\n",
              "      <td>139.0</td>\n",
              "      <td>49.0</td>\n",
              "      <td>69.0</td>\n",
              "      <td>229.0</td>\n",
              "      <td>19.0</td>\n",
              "      <td>0.0</td>\n",
              "    </tr>\n",
              "    <tr>\n",
              "      <th>2</th>\n",
              "      <td>Tatte Bakery &amp; Cafe</td>\n",
              "      <td>3110</td>\n",
              "      <td>2016-01-24</td>\n",
              "      <td>Ali E.</td>\n",
              "      <td>Bronx, NY</td>\n",
              "      <td>https://www.yelp.com/user_details?userid=fj9oO...</td>\n",
              "      <td>2.0</td>\n",
              "      <td>1.0</td>\n",
              "      <td>1.0</td>\n",
              "      <td>19.0</td>\n",
              "      <td>7.0</td>\n",
              "      <td>18.0</td>\n",
              "      <td>30.0</td>\n",
              "      <td>24.0</td>\n",
              "      <td>0.0</td>\n",
              "    </tr>\n",
              "    <tr>\n",
              "      <th>3</th>\n",
              "      <td>Pizza Days</td>\n",
              "      <td>2433</td>\n",
              "      <td>2016-01-31</td>\n",
              "      <td>Ashley B.</td>\n",
              "      <td>Hollywood, Los Angeles, CA</td>\n",
              "      <td>https://www.yelp.com/user_details?userid=lqR3P...</td>\n",
              "      <td>8.0</td>\n",
              "      <td>1.0</td>\n",
              "      <td>1.0</td>\n",
              "      <td>2.0</td>\n",
              "      <td>3.0</td>\n",
              "      <td>41.0</td>\n",
              "      <td>15.0</td>\n",
              "      <td>2.0</td>\n",
              "      <td>0.0</td>\n",
              "    </tr>\n",
              "    <tr>\n",
              "      <th>4</th>\n",
              "      <td>Menton</td>\n",
              "      <td>1993</td>\n",
              "      <td>2018-08-23</td>\n",
              "      <td>Real L.</td>\n",
              "      <td>New York, NY</td>\n",
              "      <td>https://www.yelp.com/user_details?userid=etUAk...</td>\n",
              "      <td>7.0</td>\n",
              "      <td>0.0</td>\n",
              "      <td>0.0</td>\n",
              "      <td>1.0</td>\n",
              "      <td>5.0</td>\n",
              "      <td>0.0</td>\n",
              "      <td>13.0</td>\n",
              "      <td>0.0</td>\n",
              "      <td>0.0</td>\n",
              "    </tr>\n",
              "  </tbody>\n",
              "</table>\n",
              "</div>"
            ],
            "text/plain": [
              "       restaurant_name  restaurant_ID  ... reviewer_photos reviewer_elite\n",
              "0             Piattini           2411  ...             6.0            0.0\n",
              "1               Menton           1993  ...            19.0            0.0\n",
              "2  Tatte Bakery & Cafe           3110  ...            24.0            0.0\n",
              "3           Pizza Days           2433  ...             2.0            0.0\n",
              "4               Menton           1993  ...             0.0            0.0\n",
              "\n",
              "[5 rows x 15 columns]"
            ]
          },
          "metadata": {
            "tags": []
          },
          "execution_count": 815
        }
      ]
    },
    {
      "cell_type": "code",
      "metadata": {
        "id": "zvVANiS62NFb"
      },
      "source": [
        "inspect_final = inspect_final.rename(columns={'businessname': 'restaurant_name'})"
      ],
      "execution_count": null,
      "outputs": []
    },
    {
      "cell_type": "markdown",
      "metadata": {
        "id": "wmm-vHpYVgd6"
      },
      "source": [
        "Object to time datatype"
      ]
    },
    {
      "cell_type": "code",
      "metadata": {
        "id": "mYmTjYw33vai"
      },
      "source": [
        "inspect_final[\"violdttm\"]=pd.to_datetime(inspect_final[\"violdttm\"])"
      ],
      "execution_count": null,
      "outputs": []
    },
    {
      "cell_type": "code",
      "metadata": {
        "id": "ELNwUMuf5kXE",
        "colab": {
          "base_uri": "https://localhost:8080/"
        },
        "outputId": "76c667c9-2c5b-468c-a796-4be08e1d793d"
      },
      "source": [
        "inspect_final.info()"
      ],
      "execution_count": null,
      "outputs": [
        {
          "output_type": "stream",
          "text": [
            "<class 'pandas.core.frame.DataFrame'>\n",
            "RangeIndex: 10000 entries, 0 to 9999\n",
            "Data columns (total 26 columns):\n",
            " #   Column           Non-Null Count  Dtype         \n",
            "---  ------           --------------  -----         \n",
            " 0   restaurant_name  10000 non-null  object        \n",
            " 1   dbaname          178 non-null    object        \n",
            " 2   legalowner       6488 non-null   object        \n",
            " 3   namelast         10000 non-null  object        \n",
            " 4   namefirst        10000 non-null  object        \n",
            " 5   licenseno        10000 non-null  int64         \n",
            " 6   issdttm          10000 non-null  object        \n",
            " 7   expdttm          10000 non-null  object        \n",
            " 8   licstatus        10000 non-null  object        \n",
            " 9   licensecat       10000 non-null  object        \n",
            " 10  descript         10000 non-null  object        \n",
            " 11  result           10000 non-null  object        \n",
            " 12  resultdttm       10000 non-null  object        \n",
            " 13  violation        10000 non-null  object        \n",
            " 14  viollevel        10000 non-null  object        \n",
            " 15  violdesc         9979 non-null   object        \n",
            " 16  violdttm         10000 non-null  datetime64[ns]\n",
            " 17  violstatus       10000 non-null  object        \n",
            " 18  statusdate       4509 non-null   object        \n",
            " 19  comments         10000 non-null  object        \n",
            " 20  address          10000 non-null  object        \n",
            " 21  city             10000 non-null  object        \n",
            " 22  state            10000 non-null  object        \n",
            " 23  zip              10000 non-null  object        \n",
            " 24  property_id      8295 non-null   float64       \n",
            " 25  location         7256 non-null   object        \n",
            "dtypes: datetime64[ns](1), float64(1), int64(1), object(23)\n",
            "memory usage: 2.0+ MB\n"
          ],
          "name": "stdout"
        }
      ]
    },
    {
      "cell_type": "code",
      "metadata": {
        "id": "2AS-NZTN6vqx"
      },
      "source": [
        ""
      ],
      "execution_count": null,
      "outputs": []
    },
    {
      "cell_type": "markdown",
      "metadata": {
        "id": "PegQnxbaQs4C"
      },
      "source": [
        "Considering data after year 2015"
      ]
    },
    {
      "cell_type": "code",
      "metadata": {
        "id": "RQrEsNjO5vAG"
      },
      "source": [
        "# data after 2019 year for analysis\n",
        "inspect_final=inspect_final[inspect_final['violdttm']>'2015-01-01 12:01:00']"
      ],
      "execution_count": null,
      "outputs": []
    },
    {
      "cell_type": "code",
      "metadata": {
        "id": "A9bMt7go6h_X",
        "colab": {
          "base_uri": "https://localhost:8080/"
        },
        "outputId": "3559e849-2ddd-4fe3-912e-bdd32e3443ff"
      },
      "source": [
        "inspect_final.shape"
      ],
      "execution_count": null,
      "outputs": [
        {
          "output_type": "execute_result",
          "data": {
            "text/plain": [
              "(5896, 26)"
            ]
          },
          "metadata": {
            "tags": []
          },
          "execution_count": 820
        }
      ]
    },
    {
      "cell_type": "code",
      "metadata": {
        "id": "V2r12PQK7K-e"
      },
      "source": [
        "review_final[\"review_date\"]=pd.to_datetime(review_final[\"review_date\"])"
      ],
      "execution_count": null,
      "outputs": []
    },
    {
      "cell_type": "code",
      "metadata": {
        "id": "n1BOxOP56-h1"
      },
      "source": [
        "review_final=review_final[review_final['review_date']>'2015-01-01']"
      ],
      "execution_count": null,
      "outputs": []
    },
    {
      "cell_type": "code",
      "metadata": {
        "id": "cumNNgJT7kRL",
        "colab": {
          "base_uri": "https://localhost:8080/"
        },
        "outputId": "44e584f9-5435-49ea-a981-39c57002d31b"
      },
      "source": [
        "review_final.shape"
      ],
      "execution_count": null,
      "outputs": [
        {
          "output_type": "execute_result",
          "data": {
            "text/plain": [
              "(6562, 15)"
            ]
          },
          "metadata": {
            "tags": []
          },
          "execution_count": 823
        }
      ]
    },
    {
      "cell_type": "code",
      "metadata": {
        "id": "VexsjJH_2DYl"
      },
      "source": [
        "new_df=review_final.merge(inspect_final, on='restaurant_name',)"
      ],
      "execution_count": null,
      "outputs": []
    },
    {
      "cell_type": "code",
      "metadata": {
        "id": "jt1PS7587qKf",
        "colab": {
          "base_uri": "https://localhost:8080/"
        },
        "outputId": "446e6cd3-6923-4837-a9e8-2082bdce6028"
      },
      "source": [
        "new_df.shape"
      ],
      "execution_count": null,
      "outputs": [
        {
          "output_type": "execute_result",
          "data": {
            "text/plain": [
              "(61528, 40)"
            ]
          },
          "metadata": {
            "tags": []
          },
          "execution_count": 825
        }
      ]
    },
    {
      "cell_type": "code",
      "metadata": {
        "id": "tghmu3_pXrBH",
        "colab": {
          "base_uri": "https://localhost:8080/"
        },
        "outputId": "38895163-272f-48a0-c65b-1db5bf4123e8"
      },
      "source": [
        "new_df[\"restaurant_name\"].nunique()"
      ],
      "execution_count": null,
      "outputs": [
        {
          "output_type": "execute_result",
          "data": {
            "text/plain": [
              "499"
            ]
          },
          "metadata": {
            "tags": []
          },
          "execution_count": 826
        }
      ]
    },
    {
      "cell_type": "markdown",
      "metadata": {
        "id": "GKvSZ4UKXsBm"
      },
      "source": [
        "# Main Data Frame Processing"
      ]
    },
    {
      "cell_type": "code",
      "metadata": {
        "id": "4RFaqHKL-eD-",
        "colab": {
          "base_uri": "https://localhost:8080/",
          "height": 301
        },
        "outputId": "d582f389-d178-4869-9a82-e3a2dc010546"
      },
      "source": [
        "new_df=new_df.reset_index(drop=True)\n",
        "new_df.head(2)"
      ],
      "execution_count": null,
      "outputs": [
        {
          "output_type": "execute_result",
          "data": {
            "text/html": [
              "<div>\n",
              "<style scoped>\n",
              "    .dataframe tbody tr th:only-of-type {\n",
              "        vertical-align: middle;\n",
              "    }\n",
              "\n",
              "    .dataframe tbody tr th {\n",
              "        vertical-align: top;\n",
              "    }\n",
              "\n",
              "    .dataframe thead th {\n",
              "        text-align: right;\n",
              "    }\n",
              "</style>\n",
              "<table border=\"1\" class=\"dataframe\">\n",
              "  <thead>\n",
              "    <tr style=\"text-align: right;\">\n",
              "      <th></th>\n",
              "      <th>restaurant_name</th>\n",
              "      <th>restaurant_ID</th>\n",
              "      <th>review_date</th>\n",
              "      <th>reviewer_name</th>\n",
              "      <th>reviewer_origin</th>\n",
              "      <th>reviewer_profile</th>\n",
              "      <th>history_1</th>\n",
              "      <th>history_2</th>\n",
              "      <th>history_3</th>\n",
              "      <th>history_4</th>\n",
              "      <th>history_5</th>\n",
              "      <th>reviewer_friends</th>\n",
              "      <th>reviewer_reviews</th>\n",
              "      <th>reviewer_photos</th>\n",
              "      <th>reviewer_elite</th>\n",
              "      <th>dbaname</th>\n",
              "      <th>legalowner</th>\n",
              "      <th>namelast</th>\n",
              "      <th>namefirst</th>\n",
              "      <th>licenseno</th>\n",
              "      <th>issdttm</th>\n",
              "      <th>expdttm</th>\n",
              "      <th>licstatus</th>\n",
              "      <th>licensecat</th>\n",
              "      <th>descript</th>\n",
              "      <th>result</th>\n",
              "      <th>resultdttm</th>\n",
              "      <th>violation</th>\n",
              "      <th>viollevel</th>\n",
              "      <th>violdesc</th>\n",
              "      <th>violdttm</th>\n",
              "      <th>violstatus</th>\n",
              "      <th>statusdate</th>\n",
              "      <th>comments</th>\n",
              "      <th>address</th>\n",
              "      <th>city</th>\n",
              "      <th>state</th>\n",
              "      <th>zip</th>\n",
              "      <th>property_id</th>\n",
              "      <th>location</th>\n",
              "    </tr>\n",
              "  </thead>\n",
              "  <tbody>\n",
              "    <tr>\n",
              "      <th>0</th>\n",
              "      <td>Piattini</td>\n",
              "      <td>2411</td>\n",
              "      <td>2016-01-30</td>\n",
              "      <td>Alexie O.</td>\n",
              "      <td>Boston, MA</td>\n",
              "      <td>https://www.yelp.com/user_details?userid=cfDQf...</td>\n",
              "      <td>0.0</td>\n",
              "      <td>1.0</td>\n",
              "      <td>1.0</td>\n",
              "      <td>3.0</td>\n",
              "      <td>9.0</td>\n",
              "      <td>1.0</td>\n",
              "      <td>14.0</td>\n",
              "      <td>6.0</td>\n",
              "      <td>0.0</td>\n",
              "      <td>NaN</td>\n",
              "      <td>CHATAL ASSOCS LPS</td>\n",
              "      <td>JOSEPHINE OLIVIERO MEGWA</td>\n",
              "      <td></td>\n",
              "      <td>21713</td>\n",
              "      <td>2012-01-10 12:52:50</td>\n",
              "      <td>2021-12-31 23:59:00</td>\n",
              "      <td>Active</td>\n",
              "      <td>FS</td>\n",
              "      <td>Eating &amp; Drinking</td>\n",
              "      <td>HE_Pass</td>\n",
              "      <td>2017-06-13 13:47:21</td>\n",
              "      <td>36-6-501.11-.12</td>\n",
              "      <td>*</td>\n",
              "      <td>Improper Maintenance of Floors</td>\n",
              "      <td>2017-06-13 13:47:21</td>\n",
              "      <td>Pass</td>\n",
              "      <td>2017-06-14 08:48:56</td>\n",
              "      <td>Floors under and around equipment with soils a...</td>\n",
              "      <td>226   Newbury ST</td>\n",
              "      <td>Boston</td>\n",
              "      <td>MA</td>\n",
              "      <td>02116</td>\n",
              "      <td>101443.0</td>\n",
              "      <td>(42.349710000, -71.081240000)</td>\n",
              "    </tr>\n",
              "    <tr>\n",
              "      <th>1</th>\n",
              "      <td>Piattini</td>\n",
              "      <td>2411</td>\n",
              "      <td>2016-01-30</td>\n",
              "      <td>Alexie O.</td>\n",
              "      <td>Boston, MA</td>\n",
              "      <td>https://www.yelp.com/user_details?userid=cfDQf...</td>\n",
              "      <td>0.0</td>\n",
              "      <td>1.0</td>\n",
              "      <td>1.0</td>\n",
              "      <td>3.0</td>\n",
              "      <td>9.0</td>\n",
              "      <td>1.0</td>\n",
              "      <td>14.0</td>\n",
              "      <td>6.0</td>\n",
              "      <td>0.0</td>\n",
              "      <td>NaN</td>\n",
              "      <td>CHATAL ASSOCS LPS</td>\n",
              "      <td>JOSEPHINE OLIVIERO MEGWA</td>\n",
              "      <td></td>\n",
              "      <td>21713</td>\n",
              "      <td>2012-01-10 12:52:50</td>\n",
              "      <td>2021-12-31 23:59:00</td>\n",
              "      <td>Active</td>\n",
              "      <td>FS</td>\n",
              "      <td>Eating &amp; Drinking</td>\n",
              "      <td>HE_Fail</td>\n",
              "      <td>2017-06-06 15:31:57</td>\n",
              "      <td>03-3-501.16</td>\n",
              "      <td>***</td>\n",
              "      <td>Hot Holding</td>\n",
              "      <td>2017-06-06 15:31:57</td>\n",
              "      <td>Fail</td>\n",
              "      <td>NaN</td>\n",
              "      <td>Marinara in hot holding unit at 103F. Unit on ...</td>\n",
              "      <td>226   Newbury ST</td>\n",
              "      <td>Boston</td>\n",
              "      <td>MA</td>\n",
              "      <td>02116</td>\n",
              "      <td>101443.0</td>\n",
              "      <td>(42.349710000, -71.081240000)</td>\n",
              "    </tr>\n",
              "  </tbody>\n",
              "</table>\n",
              "</div>"
            ],
            "text/plain": [
              "  restaurant_name  restaurant_ID  ... property_id                       location\n",
              "0        Piattini           2411  ...    101443.0  (42.349710000, -71.081240000)\n",
              "1        Piattini           2411  ...    101443.0  (42.349710000, -71.081240000)\n",
              "\n",
              "[2 rows x 40 columns]"
            ]
          },
          "metadata": {
            "tags": []
          },
          "execution_count": 827
        }
      ]
    },
    {
      "cell_type": "code",
      "metadata": {
        "id": "pl3hiiEK-y00",
        "colab": {
          "base_uri": "https://localhost:8080/"
        },
        "outputId": "bdaf7462-83a7-4738-dd5f-2bdf265caf7a"
      },
      "source": [
        "zip_list=list(new_df['zip'].unique())\n",
        "len(zip_list)"
      ],
      "execution_count": null,
      "outputs": [
        {
          "output_type": "execute_result",
          "data": {
            "text/plain": [
              "30"
            ]
          },
          "metadata": {
            "tags": []
          },
          "execution_count": 828
        }
      ]
    },
    {
      "cell_type": "code",
      "metadata": {
        "id": "vO9sp60mD3vB",
        "colab": {
          "base_uri": "https://localhost:8080/"
        },
        "outputId": "ac0eb6fa-70ab-44da-b029-15b3fae1ee43"
      },
      "source": [
        "url_list=list(new_df['reviewer_profile'].unique())\n",
        "len(url_list)"
      ],
      "execution_count": null,
      "outputs": [
        {
          "output_type": "execute_result",
          "data": {
            "text/plain": [
              "5248"
            ]
          },
          "metadata": {
            "tags": []
          },
          "execution_count": 829
        }
      ]
    },
    {
      "cell_type": "code",
      "metadata": {
        "id": "Mr4HsllsPQCl",
        "colab": {
          "base_uri": "https://localhost:8080/",
          "height": 37
        },
        "outputId": "cde0f286-a8a3-4bf9-c281-2f59647bee23"
      },
      "source": [
        "url_list[45]"
      ],
      "execution_count": null,
      "outputs": [
        {
          "output_type": "execute_result",
          "data": {
            "application/vnd.google.colaboratory.intrinsic+json": {
              "type": "string"
            },
            "text/plain": [
              "'https://www.yelp.com/user_details?userid=NNFfMkSb99wbaOul17PLzg'"
            ]
          },
          "metadata": {
            "tags": []
          },
          "execution_count": 830
        }
      ]
    },
    {
      "cell_type": "code",
      "metadata": {
        "id": "z9FDNSA0da6h"
      },
      "source": [
        "new_df['viollevel'] = [len(y)  for y in new_df['viollevel']]"
      ],
      "execution_count": null,
      "outputs": []
    },
    {
      "cell_type": "code",
      "metadata": {
        "id": "Ac-al0mac9Mf",
        "colab": {
          "base_uri": "https://localhost:8080/"
        },
        "outputId": "517dc13a-ca05-4db7-8c63-19e1f2b7d29a"
      },
      "source": [
        "new_df['viollevel'].unique()"
      ],
      "execution_count": null,
      "outputs": [
        {
          "output_type": "execute_result",
          "data": {
            "text/plain": [
              "array([1, 3, 2])"
            ]
          },
          "metadata": {
            "tags": []
          },
          "execution_count": 832
        }
      ]
    },
    {
      "cell_type": "code",
      "metadata": {
        "id": "X_lCa1-zQtmF",
        "colab": {
          "base_uri": "https://localhost:8080/"
        },
        "outputId": "b15519c0-73e1-43b6-adae-a98c586a1b31"
      },
      "source": [
        "rest_list=new_df['restaurant_name'].unique()\n",
        "print(len(rest_list))"
      ],
      "execution_count": null,
      "outputs": [
        {
          "output_type": "stream",
          "text": [
            "499\n"
          ],
          "name": "stdout"
        }
      ]
    },
    {
      "cell_type": "code",
      "metadata": {
        "id": "3Qw8VIYkQ2Dj"
      },
      "source": [
        ""
      ],
      "execution_count": null,
      "outputs": []
    },
    {
      "cell_type": "markdown",
      "metadata": {
        "id": "mzS1cRu-U1Vw"
      },
      "source": [
        "Function to extract Url of Restaurant Profile, from data avaialble"
      ]
    },
    {
      "cell_type": "code",
      "metadata": {
        "id": "NtWxOy5Hmkhr"
      },
      "source": [
        "#import urllib.request as ur\n",
        "from bs4 import BeautifulSoup\n",
        "import requests\n",
        "import re\n",
        "def word_search(word_to_search,url):\n",
        "  for pg in range(0,10):\n",
        "    i=0\n",
        "    url2=url+'&rec_pagestart='+str(i*10)\n",
        "    response = requests.get(url2)\n",
        "    soup = BeautifulSoup(response.content, \"html5lib\")\n",
        "    alist=soup.find_all(\"a\",{'class':'biz-name js-analytics-click'})\n",
        "    for tag in alist:\n",
        "      restname=tag.get_text().strip()\n",
        "      if restname==word_to_search:\n",
        "        tag_str=str(tag)\n",
        "        tag_str_list=tag_str.split('=')\n",
        "        link_str=tag_str_list[-1]\n",
        "        link_str_list=str(link_str).split('>')\n",
        "        final_link=str(link_str_list[0])[1:-1]\n",
        "        rest_link='https://www.yelp.com'+final_link\n",
        "        i=i+1\n",
        "        return rest_link\n",
        "        #response_new=requests.get(rest_link)\n",
        "        #soup_rest= BeautifulSoup(response_new.content, \"html5lib\")\n",
        "        #class_rest='i-stars__373c0__1T6rz i-stars--large-3-half__373c0__2z4jR border-color--default__373c0__30oMI overflow--hidden__373c0__2B0kz'\n",
        "        #rating=soup.find_all(\"div\",{'class':class_rest})\n",
        "        #rating=str(rating).split('=')\n",
        "        #return rating\n",
        "  else:\n",
        "   print(\"Url interrupt\")"
      ],
      "execution_count": null,
      "outputs": []
    },
    {
      "cell_type": "code",
      "metadata": {
        "id": "iQ29ZnW9yhki",
        "colab": {
          "base_uri": "https://localhost:8080/"
        },
        "outputId": "c40a87fa-3794-4793-c583-35d3583e9d94"
      },
      "source": [
        "text12=word_search('Bertucci’s Italian Restaurant','https://www.yelp.com/user_details_reviews_self?userid=o8vT2hNNCWdUuTW0032OCg&rec_pagestart=10')"
      ],
      "execution_count": null,
      "outputs": [
        {
          "output_type": "stream",
          "text": [
            "Url interrupt\n"
          ],
          "name": "stdout"
        }
      ]
    },
    {
      "cell_type": "code",
      "metadata": {
        "id": "zCicDCZ8TorV",
        "colab": {
          "base_uri": "https://localhost:8080/"
        },
        "outputId": "b4332d24-0c2d-4f56-f684-74db35578ac5"
      },
      "source": [
        "!pip install requests"
      ],
      "execution_count": null,
      "outputs": [
        {
          "output_type": "stream",
          "text": [
            "Requirement already satisfied: requests in /usr/local/lib/python3.7/dist-packages (2.23.0)\n",
            "Requirement already satisfied: urllib3!=1.25.0,!=1.25.1,<1.26,>=1.21.1 in /usr/local/lib/python3.7/dist-packages (from requests) (1.24.3)\n",
            "Requirement already satisfied: certifi>=2017.4.17 in /usr/local/lib/python3.7/dist-packages (from requests) (2020.12.5)\n",
            "Requirement already satisfied: idna<3,>=2.5 in /usr/local/lib/python3.7/dist-packages (from requests) (2.10)\n",
            "Requirement already satisfied: chardet<4,>=3.0.2 in /usr/local/lib/python3.7/dist-packages (from requests) (3.0.4)\n"
          ],
          "name": "stdout"
        }
      ]
    },
    {
      "cell_type": "code",
      "metadata": {
        "id": "E6F6Fiysnes2",
        "colab": {
          "base_uri": "https://localhost:8080/"
        },
        "outputId": "01a32259-a0d7-4ef3-d620-04aa3c938a9d"
      },
      "source": [
        "text12=word_search('Bertucci’s Italian Restaurant','https://www.yelp.com/user_details_reviews_self?userid=o8vT2hNNCWdUuTW0032OCg&rec_pagestart=10')"
      ],
      "execution_count": null,
      "outputs": [
        {
          "output_type": "stream",
          "text": [
            "Url interrupt\n"
          ],
          "name": "stdout"
        }
      ]
    },
    {
      "cell_type": "code",
      "metadata": {
        "id": "MlwSoIzXIzW4"
      },
      "source": [
        "list23=[3,3.5,4,5,4.5,2]"
      ],
      "execution_count": null,
      "outputs": []
    },
    {
      "cell_type": "code",
      "metadata": {
        "id": "wYytmYz41B73",
        "colab": {
          "base_uri": "https://localhost:8080/"
        },
        "outputId": "de20b4b4-8de8-425a-b663-46891948a7f1"
      },
      "source": [
        "pip install pyspark"
      ],
      "execution_count": null,
      "outputs": [
        {
          "output_type": "stream",
          "text": [
            "Requirement already satisfied: pyspark in /usr/local/lib/python3.7/dist-packages (3.1.1)\n",
            "Requirement already satisfied: py4j==0.10.9 in /usr/local/lib/python3.7/dist-packages (from pyspark) (0.10.9)\n"
          ],
          "name": "stdout"
        }
      ]
    },
    {
      "cell_type": "code",
      "metadata": {
        "id": "LxzQgXIcdcg-"
      },
      "source": [
        "\n",
        "new_df['Stars'] = np.resize(list23,len(new_df))"
      ],
      "execution_count": null,
      "outputs": []
    },
    {
      "cell_type": "code",
      "metadata": {
        "id": "DvhZB-Laftiz",
        "colab": {
          "base_uri": "https://localhost:8080/",
          "height": 530
        },
        "outputId": "271da89a-a6e1-4169-ab7c-e26e6f9b3bd5"
      },
      "source": [
        "new_df.head()"
      ],
      "execution_count": null,
      "outputs": [
        {
          "output_type": "execute_result",
          "data": {
            "text/html": [
              "<div>\n",
              "<style scoped>\n",
              "    .dataframe tbody tr th:only-of-type {\n",
              "        vertical-align: middle;\n",
              "    }\n",
              "\n",
              "    .dataframe tbody tr th {\n",
              "        vertical-align: top;\n",
              "    }\n",
              "\n",
              "    .dataframe thead th {\n",
              "        text-align: right;\n",
              "    }\n",
              "</style>\n",
              "<table border=\"1\" class=\"dataframe\">\n",
              "  <thead>\n",
              "    <tr style=\"text-align: right;\">\n",
              "      <th></th>\n",
              "      <th>restaurant_name</th>\n",
              "      <th>restaurant_ID</th>\n",
              "      <th>review_date</th>\n",
              "      <th>reviewer_name</th>\n",
              "      <th>reviewer_origin</th>\n",
              "      <th>reviewer_profile</th>\n",
              "      <th>history_1</th>\n",
              "      <th>history_2</th>\n",
              "      <th>history_3</th>\n",
              "      <th>history_4</th>\n",
              "      <th>history_5</th>\n",
              "      <th>reviewer_friends</th>\n",
              "      <th>reviewer_reviews</th>\n",
              "      <th>reviewer_photos</th>\n",
              "      <th>reviewer_elite</th>\n",
              "      <th>dbaname</th>\n",
              "      <th>legalowner</th>\n",
              "      <th>namelast</th>\n",
              "      <th>namefirst</th>\n",
              "      <th>licenseno</th>\n",
              "      <th>issdttm</th>\n",
              "      <th>expdttm</th>\n",
              "      <th>licstatus</th>\n",
              "      <th>licensecat</th>\n",
              "      <th>descript</th>\n",
              "      <th>result</th>\n",
              "      <th>resultdttm</th>\n",
              "      <th>violation</th>\n",
              "      <th>viollevel</th>\n",
              "      <th>violdesc</th>\n",
              "      <th>violdttm</th>\n",
              "      <th>violstatus</th>\n",
              "      <th>statusdate</th>\n",
              "      <th>comments</th>\n",
              "      <th>address</th>\n",
              "      <th>city</th>\n",
              "      <th>state</th>\n",
              "      <th>zip</th>\n",
              "      <th>property_id</th>\n",
              "      <th>location</th>\n",
              "      <th>Stars</th>\n",
              "    </tr>\n",
              "  </thead>\n",
              "  <tbody>\n",
              "    <tr>\n",
              "      <th>0</th>\n",
              "      <td>Piattini</td>\n",
              "      <td>2411</td>\n",
              "      <td>2016-01-30</td>\n",
              "      <td>Alexie O.</td>\n",
              "      <td>Boston, MA</td>\n",
              "      <td>https://www.yelp.com/user_details?userid=cfDQf...</td>\n",
              "      <td>0.0</td>\n",
              "      <td>1.0</td>\n",
              "      <td>1.0</td>\n",
              "      <td>3.0</td>\n",
              "      <td>9.0</td>\n",
              "      <td>1.0</td>\n",
              "      <td>14.0</td>\n",
              "      <td>6.0</td>\n",
              "      <td>0.0</td>\n",
              "      <td>NaN</td>\n",
              "      <td>CHATAL ASSOCS LPS</td>\n",
              "      <td>JOSEPHINE OLIVIERO MEGWA</td>\n",
              "      <td></td>\n",
              "      <td>21713</td>\n",
              "      <td>2012-01-10 12:52:50</td>\n",
              "      <td>2021-12-31 23:59:00</td>\n",
              "      <td>Active</td>\n",
              "      <td>FS</td>\n",
              "      <td>Eating &amp; Drinking</td>\n",
              "      <td>HE_Pass</td>\n",
              "      <td>2017-06-13 13:47:21</td>\n",
              "      <td>36-6-501.11-.12</td>\n",
              "      <td>1</td>\n",
              "      <td>Improper Maintenance of Floors</td>\n",
              "      <td>2017-06-13 13:47:21</td>\n",
              "      <td>Pass</td>\n",
              "      <td>2017-06-14 08:48:56</td>\n",
              "      <td>Floors under and around equipment with soils a...</td>\n",
              "      <td>226   Newbury ST</td>\n",
              "      <td>Boston</td>\n",
              "      <td>MA</td>\n",
              "      <td>02116</td>\n",
              "      <td>101443.0</td>\n",
              "      <td>(42.349710000, -71.081240000)</td>\n",
              "      <td>3.0</td>\n",
              "    </tr>\n",
              "    <tr>\n",
              "      <th>1</th>\n",
              "      <td>Piattini</td>\n",
              "      <td>2411</td>\n",
              "      <td>2016-01-30</td>\n",
              "      <td>Alexie O.</td>\n",
              "      <td>Boston, MA</td>\n",
              "      <td>https://www.yelp.com/user_details?userid=cfDQf...</td>\n",
              "      <td>0.0</td>\n",
              "      <td>1.0</td>\n",
              "      <td>1.0</td>\n",
              "      <td>3.0</td>\n",
              "      <td>9.0</td>\n",
              "      <td>1.0</td>\n",
              "      <td>14.0</td>\n",
              "      <td>6.0</td>\n",
              "      <td>0.0</td>\n",
              "      <td>NaN</td>\n",
              "      <td>CHATAL ASSOCS LPS</td>\n",
              "      <td>JOSEPHINE OLIVIERO MEGWA</td>\n",
              "      <td></td>\n",
              "      <td>21713</td>\n",
              "      <td>2012-01-10 12:52:50</td>\n",
              "      <td>2021-12-31 23:59:00</td>\n",
              "      <td>Active</td>\n",
              "      <td>FS</td>\n",
              "      <td>Eating &amp; Drinking</td>\n",
              "      <td>HE_Fail</td>\n",
              "      <td>2017-06-06 15:31:57</td>\n",
              "      <td>03-3-501.16</td>\n",
              "      <td>3</td>\n",
              "      <td>Hot Holding</td>\n",
              "      <td>2017-06-06 15:31:57</td>\n",
              "      <td>Fail</td>\n",
              "      <td>NaN</td>\n",
              "      <td>Marinara in hot holding unit at 103F. Unit on ...</td>\n",
              "      <td>226   Newbury ST</td>\n",
              "      <td>Boston</td>\n",
              "      <td>MA</td>\n",
              "      <td>02116</td>\n",
              "      <td>101443.0</td>\n",
              "      <td>(42.349710000, -71.081240000)</td>\n",
              "      <td>3.5</td>\n",
              "    </tr>\n",
              "    <tr>\n",
              "      <th>2</th>\n",
              "      <td>Piattini</td>\n",
              "      <td>2411</td>\n",
              "      <td>2016-01-30</td>\n",
              "      <td>Alexie O.</td>\n",
              "      <td>Boston, MA</td>\n",
              "      <td>https://www.yelp.com/user_details?userid=cfDQf...</td>\n",
              "      <td>0.0</td>\n",
              "      <td>1.0</td>\n",
              "      <td>1.0</td>\n",
              "      <td>3.0</td>\n",
              "      <td>9.0</td>\n",
              "      <td>1.0</td>\n",
              "      <td>14.0</td>\n",
              "      <td>6.0</td>\n",
              "      <td>0.0</td>\n",
              "      <td>NaN</td>\n",
              "      <td>CHATAL ASSOCS LPS</td>\n",
              "      <td>JOSEPHINE OLIVIERO MEGWA</td>\n",
              "      <td></td>\n",
              "      <td>21713</td>\n",
              "      <td>2012-01-10 12:52:50</td>\n",
              "      <td>2021-12-31 23:59:00</td>\n",
              "      <td>Active</td>\n",
              "      <td>FS</td>\n",
              "      <td>Eating &amp; Drinking</td>\n",
              "      <td>HE_Pass</td>\n",
              "      <td>2017-06-13 13:47:21</td>\n",
              "      <td>15-4-202.16</td>\n",
              "      <td>1</td>\n",
              "      <td>Non-Food Contact Surfaces</td>\n",
              "      <td>2017-06-13 13:47:21</td>\n",
              "      <td>Pass</td>\n",
              "      <td>2017-06-14 08:48:56</td>\n",
              "      <td>Cold holding sandwich unit at 58F. Must be mai...</td>\n",
              "      <td>226   Newbury ST</td>\n",
              "      <td>Boston</td>\n",
              "      <td>MA</td>\n",
              "      <td>02116</td>\n",
              "      <td>101443.0</td>\n",
              "      <td>(42.349710000, -71.081240000)</td>\n",
              "      <td>4.0</td>\n",
              "    </tr>\n",
              "    <tr>\n",
              "      <th>3</th>\n",
              "      <td>Piattini</td>\n",
              "      <td>2411</td>\n",
              "      <td>2016-01-30</td>\n",
              "      <td>Alexie O.</td>\n",
              "      <td>Boston, MA</td>\n",
              "      <td>https://www.yelp.com/user_details?userid=cfDQf...</td>\n",
              "      <td>0.0</td>\n",
              "      <td>1.0</td>\n",
              "      <td>1.0</td>\n",
              "      <td>3.0</td>\n",
              "      <td>9.0</td>\n",
              "      <td>1.0</td>\n",
              "      <td>14.0</td>\n",
              "      <td>6.0</td>\n",
              "      <td>0.0</td>\n",
              "      <td>NaN</td>\n",
              "      <td>CHATAL ASSOCS LPS</td>\n",
              "      <td>JOSEPHINE OLIVIERO MEGWA</td>\n",
              "      <td></td>\n",
              "      <td>21713</td>\n",
              "      <td>2012-01-10 12:52:50</td>\n",
              "      <td>2021-12-31 23:59:00</td>\n",
              "      <td>Active</td>\n",
              "      <td>FS</td>\n",
              "      <td>Eating &amp; Drinking</td>\n",
              "      <td>HE_Pass</td>\n",
              "      <td>2015-06-03 11:24:51</td>\n",
              "      <td>31-5-204/05.11</td>\n",
              "      <td>3</td>\n",
              "      <td>Location  Accessible</td>\n",
              "      <td>2015-06-03 11:24:51</td>\n",
              "      <td>Pass</td>\n",
              "      <td>2015-06-03 13:18:24</td>\n",
              "      <td>Hand sink blocked with trash barrel and contai...</td>\n",
              "      <td>226   Newbury ST</td>\n",
              "      <td>Boston</td>\n",
              "      <td>MA</td>\n",
              "      <td>02116</td>\n",
              "      <td>101443.0</td>\n",
              "      <td>(42.349710000, -71.081240000)</td>\n",
              "      <td>5.0</td>\n",
              "    </tr>\n",
              "    <tr>\n",
              "      <th>4</th>\n",
              "      <td>Piattini</td>\n",
              "      <td>2411</td>\n",
              "      <td>2016-01-30</td>\n",
              "      <td>Alexie O.</td>\n",
              "      <td>Boston, MA</td>\n",
              "      <td>https://www.yelp.com/user_details?userid=cfDQf...</td>\n",
              "      <td>0.0</td>\n",
              "      <td>1.0</td>\n",
              "      <td>1.0</td>\n",
              "      <td>3.0</td>\n",
              "      <td>9.0</td>\n",
              "      <td>1.0</td>\n",
              "      <td>14.0</td>\n",
              "      <td>6.0</td>\n",
              "      <td>0.0</td>\n",
              "      <td>NaN</td>\n",
              "      <td>CHATAL ASSOCS LPS</td>\n",
              "      <td>JOSEPHINE OLIVIERO MEGWA</td>\n",
              "      <td></td>\n",
              "      <td>21713</td>\n",
              "      <td>2012-01-10 12:52:50</td>\n",
              "      <td>2021-12-31 23:59:00</td>\n",
              "      <td>Active</td>\n",
              "      <td>FS</td>\n",
              "      <td>Eating &amp; Drinking</td>\n",
              "      <td>HE_Pass</td>\n",
              "      <td>2019-11-12 14:50:08</td>\n",
              "      <td>590.004/4-203.12-PF</td>\n",
              "      <td>2</td>\n",
              "      <td>Temperature Measuring Devices  Ambient Air and...</td>\n",
              "      <td>2019-11-12 14:50:08</td>\n",
              "      <td>Pass</td>\n",
              "      <td>2019-11-12 15:45:38</td>\n",
              "      <td>Broken thermometer in sandwich unit - prep/coo...</td>\n",
              "      <td>226   Newbury ST</td>\n",
              "      <td>Boston</td>\n",
              "      <td>MA</td>\n",
              "      <td>02116</td>\n",
              "      <td>101443.0</td>\n",
              "      <td>(42.349710000, -71.081240000)</td>\n",
              "      <td>4.5</td>\n",
              "    </tr>\n",
              "  </tbody>\n",
              "</table>\n",
              "</div>"
            ],
            "text/plain": [
              "  restaurant_name  restaurant_ID  ...                       location Stars\n",
              "0        Piattini           2411  ...  (42.349710000, -71.081240000)   3.0\n",
              "1        Piattini           2411  ...  (42.349710000, -71.081240000)   3.5\n",
              "2        Piattini           2411  ...  (42.349710000, -71.081240000)   4.0\n",
              "3        Piattini           2411  ...  (42.349710000, -71.081240000)   5.0\n",
              "4        Piattini           2411  ...  (42.349710000, -71.081240000)   4.5\n",
              "\n",
              "[5 rows x 41 columns]"
            ]
          },
          "metadata": {
            "tags": []
          },
          "execution_count": 841
        }
      ]
    },
    {
      "cell_type": "code",
      "metadata": {
        "id": "v9B8hjdc0Kum"
      },
      "source": [
        "new_df.drop_duplicates(subset = ['restaurant_name'], keep = 'first', inplace = True) "
      ],
      "execution_count": null,
      "outputs": []
    },
    {
      "cell_type": "code",
      "metadata": {
        "id": "fh_abdPR0byd",
        "colab": {
          "base_uri": "https://localhost:8080/",
          "height": 445
        },
        "outputId": "a105a766-bd77-4ac5-fee0-097abf71c100"
      },
      "source": [
        "new_df.head()"
      ],
      "execution_count": null,
      "outputs": [
        {
          "output_type": "execute_result",
          "data": {
            "text/html": [
              "<div>\n",
              "<style scoped>\n",
              "    .dataframe tbody tr th:only-of-type {\n",
              "        vertical-align: middle;\n",
              "    }\n",
              "\n",
              "    .dataframe tbody tr th {\n",
              "        vertical-align: top;\n",
              "    }\n",
              "\n",
              "    .dataframe thead th {\n",
              "        text-align: right;\n",
              "    }\n",
              "</style>\n",
              "<table border=\"1\" class=\"dataframe\">\n",
              "  <thead>\n",
              "    <tr style=\"text-align: right;\">\n",
              "      <th></th>\n",
              "      <th>restaurant_name</th>\n",
              "      <th>restaurant_ID</th>\n",
              "      <th>review_date</th>\n",
              "      <th>reviewer_name</th>\n",
              "      <th>reviewer_origin</th>\n",
              "      <th>reviewer_profile</th>\n",
              "      <th>history_1</th>\n",
              "      <th>history_2</th>\n",
              "      <th>history_3</th>\n",
              "      <th>history_4</th>\n",
              "      <th>history_5</th>\n",
              "      <th>reviewer_friends</th>\n",
              "      <th>reviewer_reviews</th>\n",
              "      <th>reviewer_photos</th>\n",
              "      <th>reviewer_elite</th>\n",
              "      <th>dbaname</th>\n",
              "      <th>legalowner</th>\n",
              "      <th>namelast</th>\n",
              "      <th>namefirst</th>\n",
              "      <th>licenseno</th>\n",
              "      <th>issdttm</th>\n",
              "      <th>expdttm</th>\n",
              "      <th>licstatus</th>\n",
              "      <th>licensecat</th>\n",
              "      <th>descript</th>\n",
              "      <th>result</th>\n",
              "      <th>resultdttm</th>\n",
              "      <th>violation</th>\n",
              "      <th>viollevel</th>\n",
              "      <th>violdesc</th>\n",
              "      <th>violdttm</th>\n",
              "      <th>violstatus</th>\n",
              "      <th>statusdate</th>\n",
              "      <th>comments</th>\n",
              "      <th>address</th>\n",
              "      <th>city</th>\n",
              "      <th>state</th>\n",
              "      <th>zip</th>\n",
              "      <th>property_id</th>\n",
              "      <th>location</th>\n",
              "      <th>Stars</th>\n",
              "    </tr>\n",
              "  </thead>\n",
              "  <tbody>\n",
              "    <tr>\n",
              "      <th>0</th>\n",
              "      <td>Piattini</td>\n",
              "      <td>2411</td>\n",
              "      <td>2016-01-30</td>\n",
              "      <td>Alexie O.</td>\n",
              "      <td>Boston, MA</td>\n",
              "      <td>https://www.yelp.com/user_details?userid=cfDQf...</td>\n",
              "      <td>0.0</td>\n",
              "      <td>1.0</td>\n",
              "      <td>1.0</td>\n",
              "      <td>3.0</td>\n",
              "      <td>9.0</td>\n",
              "      <td>1.0</td>\n",
              "      <td>14.0</td>\n",
              "      <td>6.0</td>\n",
              "      <td>0.0</td>\n",
              "      <td>NaN</td>\n",
              "      <td>CHATAL ASSOCS LPS</td>\n",
              "      <td>JOSEPHINE OLIVIERO MEGWA</td>\n",
              "      <td></td>\n",
              "      <td>21713</td>\n",
              "      <td>2012-01-10 12:52:50</td>\n",
              "      <td>2021-12-31 23:59:00</td>\n",
              "      <td>Active</td>\n",
              "      <td>FS</td>\n",
              "      <td>Eating &amp; Drinking</td>\n",
              "      <td>HE_Pass</td>\n",
              "      <td>2017-06-13 13:47:21</td>\n",
              "      <td>36-6-501.11-.12</td>\n",
              "      <td>1</td>\n",
              "      <td>Improper Maintenance of Floors</td>\n",
              "      <td>2017-06-13 13:47:21</td>\n",
              "      <td>Pass</td>\n",
              "      <td>2017-06-14 08:48:56</td>\n",
              "      <td>Floors under and around equipment with soils a...</td>\n",
              "      <td>226   Newbury ST</td>\n",
              "      <td>Boston</td>\n",
              "      <td>MA</td>\n",
              "      <td>02116</td>\n",
              "      <td>101443.0</td>\n",
              "      <td>(42.349710000, -71.081240000)</td>\n",
              "      <td>3.0</td>\n",
              "    </tr>\n",
              "    <tr>\n",
              "      <th>210</th>\n",
              "      <td>Tatte Bakery &amp; Cafe</td>\n",
              "      <td>3110</td>\n",
              "      <td>2016-01-24</td>\n",
              "      <td>Ali E.</td>\n",
              "      <td>Bronx, NY</td>\n",
              "      <td>https://www.yelp.com/user_details?userid=fj9oO...</td>\n",
              "      <td>2.0</td>\n",
              "      <td>1.0</td>\n",
              "      <td>1.0</td>\n",
              "      <td>19.0</td>\n",
              "      <td>7.0</td>\n",
              "      <td>18.0</td>\n",
              "      <td>30.0</td>\n",
              "      <td>24.0</td>\n",
              "      <td>0.0</td>\n",
              "      <td>NaN</td>\n",
              "      <td>ROCKWOOD ABBEY FEE LLC</td>\n",
              "      <td>Tatte Holding LLC</td>\n",
              "      <td>Att: Accounts Payable</td>\n",
              "      <td>345202</td>\n",
              "      <td>2018-01-16 13:12:18</td>\n",
              "      <td>2021-12-31 23:59:00</td>\n",
              "      <td>Active</td>\n",
              "      <td>FS</td>\n",
              "      <td>Eating &amp; Drinking</td>\n",
              "      <td>HE_Fail</td>\n",
              "      <td>2020-03-06 12:22:57</td>\n",
              "      <td>590.004/4-101.11-P</td>\n",
              "      <td>3</td>\n",
              "      <td>Characteristics-Materials for Construction and...</td>\n",
              "      <td>2020-03-06 12:22:57</td>\n",
              "      <td>Fail</td>\n",
              "      <td>NaN</td>\n",
              "      <td>Storing TCS food on a refrigeration/sandwich p...</td>\n",
              "      <td>399   Boylston ST</td>\n",
              "      <td>Boston</td>\n",
              "      <td>MA</td>\n",
              "      <td>02116</td>\n",
              "      <td>18319.0</td>\n",
              "      <td>(42.351790000, -71.072090000)</td>\n",
              "      <td>3.0</td>\n",
              "    </tr>\n",
              "    <tr>\n",
              "      <th>1597</th>\n",
              "      <td>Pizza Days</td>\n",
              "      <td>2433</td>\n",
              "      <td>2016-01-31</td>\n",
              "      <td>Ashley B.</td>\n",
              "      <td>Hollywood, Los Angeles, CA</td>\n",
              "      <td>https://www.yelp.com/user_details?userid=lqR3P...</td>\n",
              "      <td>8.0</td>\n",
              "      <td>1.0</td>\n",
              "      <td>1.0</td>\n",
              "      <td>2.0</td>\n",
              "      <td>3.0</td>\n",
              "      <td>41.0</td>\n",
              "      <td>15.0</td>\n",
              "      <td>2.0</td>\n",
              "      <td>0.0</td>\n",
              "      <td>NaN</td>\n",
              "      <td>AND DEVELOPMENT LLC</td>\n",
              "      <td>Pizza Days Inc.</td>\n",
              "      <td>Hakki Dengizli</td>\n",
              "      <td>68671</td>\n",
              "      <td>2012-01-11 13:04:50</td>\n",
              "      <td>2021-12-31 23:59:00</td>\n",
              "      <td>Active</td>\n",
              "      <td>FT</td>\n",
              "      <td>Eating &amp; Drinking w/ Take Out</td>\n",
              "      <td>HE_Pass</td>\n",
              "      <td>2018-08-17 14:30:16</td>\n",
              "      <td>22-4-601/602.11</td>\n",
              "      <td>2</td>\n",
              "      <td>Food Contact Surfaces Clean</td>\n",
              "      <td>2018-08-17 14:30:16</td>\n",
              "      <td>Pass</td>\n",
              "      <td>2018-08-17 15:20:21</td>\n",
              "      <td>Can opener very soiled with dried up food debr...</td>\n",
              "      <td>101   Brighton AVE</td>\n",
              "      <td>Allston</td>\n",
              "      <td>MA</td>\n",
              "      <td>02134</td>\n",
              "      <td>20067.0</td>\n",
              "      <td>(42.353081000, -71.130624000)</td>\n",
              "      <td>3.5</td>\n",
              "    </tr>\n",
              "    <tr>\n",
              "      <th>1717</th>\n",
              "      <td>Yamato II</td>\n",
              "      <td>3573</td>\n",
              "      <td>2018-04-19</td>\n",
              "      <td>Shain O.</td>\n",
              "      <td>Boston, MA</td>\n",
              "      <td>https://www.yelp.com/user_details?userid=PGD0Y...</td>\n",
              "      <td>9.0</td>\n",
              "      <td>39.0</td>\n",
              "      <td>56.0</td>\n",
              "      <td>48.0</td>\n",
              "      <td>30.0</td>\n",
              "      <td>14.0</td>\n",
              "      <td>181.0</td>\n",
              "      <td>53.0</td>\n",
              "      <td>1.0</td>\n",
              "      <td>NaN</td>\n",
              "      <td></td>\n",
              "      <td>Jiang</td>\n",
              "      <td>Ming</td>\n",
              "      <td>137896</td>\n",
              "      <td>2015-06-30 08:46:46</td>\n",
              "      <td>2021-12-31 23:59:00</td>\n",
              "      <td>Active</td>\n",
              "      <td>FS</td>\n",
              "      <td>Eating &amp; Drinking</td>\n",
              "      <td>HE_Filed</td>\n",
              "      <td>2018-05-24 08:28:17</td>\n",
              "      <td>33-5-501.13-.17</td>\n",
              "      <td>1</td>\n",
              "      <td>Adequate Number  Frequency Vermin Proof</td>\n",
              "      <td>2018-05-24 08:28:17</td>\n",
              "      <td>Pass</td>\n",
              "      <td>2018-05-29 08:43:34</td>\n",
              "      <td>Provide covered recepticle in handicapped rest...</td>\n",
              "      <td>545  Boylston ST</td>\n",
              "      <td>Boston</td>\n",
              "      <td>MA</td>\n",
              "      <td>02116</td>\n",
              "      <td>193086.0</td>\n",
              "      <td>(42.350810000, -71.075810000)</td>\n",
              "      <td>3.5</td>\n",
              "    </tr>\n",
              "    <tr>\n",
              "      <th>3061</th>\n",
              "      <td>The Bebop</td>\n",
              "      <td>3165</td>\n",
              "      <td>2019-04-22</td>\n",
              "      <td>Tom S.</td>\n",
              "      <td>Princeton, NJ</td>\n",
              "      <td>https://www.yelp.com/user_details?userid=KpAIf...</td>\n",
              "      <td>0.0</td>\n",
              "      <td>0.0</td>\n",
              "      <td>0.0</td>\n",
              "      <td>0.0</td>\n",
              "      <td>0.0</td>\n",
              "      <td>10.0</td>\n",
              "      <td>1.0</td>\n",
              "      <td>0.0</td>\n",
              "      <td>0.0</td>\n",
              "      <td>NaN</td>\n",
              "      <td>NaN</td>\n",
              "      <td>McCarthy</td>\n",
              "      <td>Thomas</td>\n",
              "      <td>310676</td>\n",
              "      <td>2017-06-15 08:17:15</td>\n",
              "      <td>2021-12-31 23:59:00</td>\n",
              "      <td>Active</td>\n",
              "      <td>FS</td>\n",
              "      <td>Eating &amp; Drinking</td>\n",
              "      <td>HE_Pass</td>\n",
              "      <td>2018-02-16 10:29:13</td>\n",
              "      <td>08-3-305-307.11</td>\n",
              "      <td>1</td>\n",
              "      <td>Food Protection</td>\n",
              "      <td>2018-02-16 10:29:13</td>\n",
              "      <td>Pass</td>\n",
              "      <td>2018-02-26 10:39:19</td>\n",
              "      <td>Foods stored in large containers on floor of w...</td>\n",
              "      <td>1116  Boylston ST</td>\n",
              "      <td>Boston</td>\n",
              "      <td>MA</td>\n",
              "      <td>02215</td>\n",
              "      <td>351728.0</td>\n",
              "      <td>NaN</td>\n",
              "      <td>3.5</td>\n",
              "    </tr>\n",
              "  </tbody>\n",
              "</table>\n",
              "</div>"
            ],
            "text/plain": [
              "          restaurant_name  restaurant_ID  ...                       location Stars\n",
              "0                Piattini           2411  ...  (42.349710000, -71.081240000)   3.0\n",
              "210   Tatte Bakery & Cafe           3110  ...  (42.351790000, -71.072090000)   3.0\n",
              "1597           Pizza Days           2433  ...  (42.353081000, -71.130624000)   3.5\n",
              "1717            Yamato II           3573  ...  (42.350810000, -71.075810000)   3.5\n",
              "3061            The Bebop           3165  ...                            NaN   3.5\n",
              "\n",
              "[5 rows x 41 columns]"
            ]
          },
          "metadata": {
            "tags": []
          },
          "execution_count": 843
        }
      ]
    },
    {
      "cell_type": "code",
      "metadata": {
        "id": "Ht_XnVeZ03VJ",
        "colab": {
          "base_uri": "https://localhost:8080/",
          "height": 216
        },
        "outputId": "4f4826f8-233c-4708-f098-4c9c1cdcb8a5"
      },
      "source": [
        "new_df=new_df.reset_index(drop=True)\n",
        "new_df.head(2)"
      ],
      "execution_count": null,
      "outputs": [
        {
          "output_type": "execute_result",
          "data": {
            "text/html": [
              "<div>\n",
              "<style scoped>\n",
              "    .dataframe tbody tr th:only-of-type {\n",
              "        vertical-align: middle;\n",
              "    }\n",
              "\n",
              "    .dataframe tbody tr th {\n",
              "        vertical-align: top;\n",
              "    }\n",
              "\n",
              "    .dataframe thead th {\n",
              "        text-align: right;\n",
              "    }\n",
              "</style>\n",
              "<table border=\"1\" class=\"dataframe\">\n",
              "  <thead>\n",
              "    <tr style=\"text-align: right;\">\n",
              "      <th></th>\n",
              "      <th>restaurant_name</th>\n",
              "      <th>restaurant_ID</th>\n",
              "      <th>review_date</th>\n",
              "      <th>reviewer_name</th>\n",
              "      <th>reviewer_origin</th>\n",
              "      <th>reviewer_profile</th>\n",
              "      <th>history_1</th>\n",
              "      <th>history_2</th>\n",
              "      <th>history_3</th>\n",
              "      <th>history_4</th>\n",
              "      <th>history_5</th>\n",
              "      <th>reviewer_friends</th>\n",
              "      <th>reviewer_reviews</th>\n",
              "      <th>reviewer_photos</th>\n",
              "      <th>reviewer_elite</th>\n",
              "      <th>dbaname</th>\n",
              "      <th>legalowner</th>\n",
              "      <th>namelast</th>\n",
              "      <th>namefirst</th>\n",
              "      <th>licenseno</th>\n",
              "      <th>issdttm</th>\n",
              "      <th>expdttm</th>\n",
              "      <th>licstatus</th>\n",
              "      <th>licensecat</th>\n",
              "      <th>descript</th>\n",
              "      <th>result</th>\n",
              "      <th>resultdttm</th>\n",
              "      <th>violation</th>\n",
              "      <th>viollevel</th>\n",
              "      <th>violdesc</th>\n",
              "      <th>violdttm</th>\n",
              "      <th>violstatus</th>\n",
              "      <th>statusdate</th>\n",
              "      <th>comments</th>\n",
              "      <th>address</th>\n",
              "      <th>city</th>\n",
              "      <th>state</th>\n",
              "      <th>zip</th>\n",
              "      <th>property_id</th>\n",
              "      <th>location</th>\n",
              "      <th>Stars</th>\n",
              "    </tr>\n",
              "  </thead>\n",
              "  <tbody>\n",
              "    <tr>\n",
              "      <th>0</th>\n",
              "      <td>Piattini</td>\n",
              "      <td>2411</td>\n",
              "      <td>2016-01-30</td>\n",
              "      <td>Alexie O.</td>\n",
              "      <td>Boston, MA</td>\n",
              "      <td>https://www.yelp.com/user_details?userid=cfDQf...</td>\n",
              "      <td>0.0</td>\n",
              "      <td>1.0</td>\n",
              "      <td>1.0</td>\n",
              "      <td>3.0</td>\n",
              "      <td>9.0</td>\n",
              "      <td>1.0</td>\n",
              "      <td>14.0</td>\n",
              "      <td>6.0</td>\n",
              "      <td>0.0</td>\n",
              "      <td>NaN</td>\n",
              "      <td>CHATAL ASSOCS LPS</td>\n",
              "      <td>JOSEPHINE OLIVIERO MEGWA</td>\n",
              "      <td></td>\n",
              "      <td>21713</td>\n",
              "      <td>2012-01-10 12:52:50</td>\n",
              "      <td>2021-12-31 23:59:00</td>\n",
              "      <td>Active</td>\n",
              "      <td>FS</td>\n",
              "      <td>Eating &amp; Drinking</td>\n",
              "      <td>HE_Pass</td>\n",
              "      <td>2017-06-13 13:47:21</td>\n",
              "      <td>36-6-501.11-.12</td>\n",
              "      <td>1</td>\n",
              "      <td>Improper Maintenance of Floors</td>\n",
              "      <td>2017-06-13 13:47:21</td>\n",
              "      <td>Pass</td>\n",
              "      <td>2017-06-14 08:48:56</td>\n",
              "      <td>Floors under and around equipment with soils a...</td>\n",
              "      <td>226   Newbury ST</td>\n",
              "      <td>Boston</td>\n",
              "      <td>MA</td>\n",
              "      <td>02116</td>\n",
              "      <td>101443.0</td>\n",
              "      <td>(42.349710000, -71.081240000)</td>\n",
              "      <td>3.0</td>\n",
              "    </tr>\n",
              "    <tr>\n",
              "      <th>1</th>\n",
              "      <td>Tatte Bakery &amp; Cafe</td>\n",
              "      <td>3110</td>\n",
              "      <td>2016-01-24</td>\n",
              "      <td>Ali E.</td>\n",
              "      <td>Bronx, NY</td>\n",
              "      <td>https://www.yelp.com/user_details?userid=fj9oO...</td>\n",
              "      <td>2.0</td>\n",
              "      <td>1.0</td>\n",
              "      <td>1.0</td>\n",
              "      <td>19.0</td>\n",
              "      <td>7.0</td>\n",
              "      <td>18.0</td>\n",
              "      <td>30.0</td>\n",
              "      <td>24.0</td>\n",
              "      <td>0.0</td>\n",
              "      <td>NaN</td>\n",
              "      <td>ROCKWOOD ABBEY FEE LLC</td>\n",
              "      <td>Tatte Holding LLC</td>\n",
              "      <td>Att: Accounts Payable</td>\n",
              "      <td>345202</td>\n",
              "      <td>2018-01-16 13:12:18</td>\n",
              "      <td>2021-12-31 23:59:00</td>\n",
              "      <td>Active</td>\n",
              "      <td>FS</td>\n",
              "      <td>Eating &amp; Drinking</td>\n",
              "      <td>HE_Fail</td>\n",
              "      <td>2020-03-06 12:22:57</td>\n",
              "      <td>590.004/4-101.11-P</td>\n",
              "      <td>3</td>\n",
              "      <td>Characteristics-Materials for Construction and...</td>\n",
              "      <td>2020-03-06 12:22:57</td>\n",
              "      <td>Fail</td>\n",
              "      <td>NaN</td>\n",
              "      <td>Storing TCS food on a refrigeration/sandwich p...</td>\n",
              "      <td>399   Boylston ST</td>\n",
              "      <td>Boston</td>\n",
              "      <td>MA</td>\n",
              "      <td>02116</td>\n",
              "      <td>18319.0</td>\n",
              "      <td>(42.351790000, -71.072090000)</td>\n",
              "      <td>3.0</td>\n",
              "    </tr>\n",
              "  </tbody>\n",
              "</table>\n",
              "</div>"
            ],
            "text/plain": [
              "       restaurant_name  restaurant_ID  ...                       location Stars\n",
              "0             Piattini           2411  ...  (42.349710000, -71.081240000)   3.0\n",
              "1  Tatte Bakery & Cafe           3110  ...  (42.351790000, -71.072090000)   3.0\n",
              "\n",
              "[2 rows x 41 columns]"
            ]
          },
          "metadata": {
            "tags": []
          },
          "execution_count": 844
        }
      ]
    },
    {
      "cell_type": "markdown",
      "metadata": {
        "id": "oZx6-DEOV7i3"
      },
      "source": [
        "# Spark Introduction "
      ]
    },
    {
      "cell_type": "markdown",
      "metadata": {
        "id": "_SGt9MB1WD1T"
      },
      "source": [
        "Installation and Environment setup"
      ]
    },
    {
      "cell_type": "code",
      "metadata": {
        "id": "ijn-Da44dwF0"
      },
      "source": [
        "!apt-get install openjdk-8-jdk-headless -qq > /dev/null"
      ],
      "execution_count": null,
      "outputs": []
    },
    {
      "cell_type": "code",
      "metadata": {
        "id": "6vlx-JuX4q_1"
      },
      "source": [
        "!wget -q https://archive.apache.org/dist/spark/spark-2.4.1/spark-2.4.1-bin-hadoop2.7.tgz \n",
        "! tar -xf spark-2.4.1-bin-hadoop2.7.tgz\n",
        "!pip install -q findspark"
      ],
      "execution_count": null,
      "outputs": []
    },
    {
      "cell_type": "code",
      "metadata": {
        "id": "VH_ER7Uw7Caw"
      },
      "source": [
        "import os\n",
        "os.environ[\"JAVA_HOME\"] = \"/usr/lib/jvm/java-8-openjdk-amd64\" \n",
        "os.environ[\"SPARK_HOME\"] = \"/content/spark-2.4.1-bin-hadoop2.7\""
      ],
      "execution_count": null,
      "outputs": []
    },
    {
      "cell_type": "code",
      "metadata": {
        "id": "u-HPEzCqi0Xm"
      },
      "source": [
        "import findspark\n",
        "findspark.init()\n",
        "from pyspark.sql import SparkSession\n",
        "from pyspark import SparkContext \n",
        "sc = SparkContext.getOrCreate()"
      ],
      "execution_count": null,
      "outputs": []
    },
    {
      "cell_type": "code",
      "metadata": {
        "id": "FdwKK7XHesg0"
      },
      "source": [
        "senti_ana=new_df[['restaurant_name','viollevel','Stars','reviewer_profile','zip']]"
      ],
      "execution_count": null,
      "outputs": []
    },
    {
      "cell_type": "code",
      "metadata": {
        "id": "-YLl-Q15WIgn"
      },
      "source": [
        "# Dump data into Mongodb"
      ],
      "execution_count": null,
      "outputs": []
    },
    {
      "cell_type": "code",
      "metadata": {
        "id": "ySOkifc5fYkT"
      },
      "source": [
        "from pymongo import MongoClient\n",
        "client = MongoClient()\n",
        "db = client.test \n",
        "col = db.col\n",
        "\n",
        "\n",
        "def createDocsFromDF(df, collection = None, insertToDB=False):\n",
        "    docs = [] \n",
        "    fields = [col for col in df.columns]\n",
        "    for i in range(len(df)):\n",
        "        doc = {col:df[col][i] for col in df.columns if col != 'index'}\n",
        "        for key, val in doc.items():\n",
        "            if type(val) == np.int64:\n",
        "                doc[key] = int(val)\n",
        "            if type(val) == np.float64:\n",
        "                doc[key] = float(val)\n",
        "            if type(val) == np.bool_:\n",
        "                doc[key] = bool(val)\n",
        "        docs.append(doc) \n",
        "    if insertToDB and collection:\n",
        "        db.collection.insert_many(docs)\n",
        "    return docs "
      ],
      "execution_count": null,
      "outputs": []
    },
    {
      "cell_type": "code",
      "metadata": {
        "id": "NPmGTCbqrl9W"
      },
      "source": [
        "data_mongod=createDocsFromDF(senti_ana)"
      ],
      "execution_count": null,
      "outputs": []
    },
    {
      "cell_type": "code",
      "metadata": {
        "id": "4GM8p588tenL",
        "colab": {
          "base_uri": "https://localhost:8080/"
        },
        "outputId": "b5c1d21b-7a74-421b-c63e-4fae5fb9bee9"
      },
      "source": [
        "# Mongodb collections\n",
        "data_mongod[0:10]"
      ],
      "execution_count": null,
      "outputs": [
        {
          "output_type": "execute_result",
          "data": {
            "text/plain": [
              "[{'Stars': 3.0,\n",
              "  'restaurant_name': 'Piattini',\n",
              "  'reviewer_profile': 'https://www.yelp.com/user_details?userid=cfDQfMATC3Rr98VtS7LDzA',\n",
              "  'viollevel': 1,\n",
              "  'zip': '02116'},\n",
              " {'Stars': 3.0,\n",
              "  'restaurant_name': 'Tatte Bakery & Cafe',\n",
              "  'reviewer_profile': 'https://www.yelp.com/user_details?userid=fj9oOXdfiSEdhUtlB4t8Zg',\n",
              "  'viollevel': 3,\n",
              "  'zip': '02116'},\n",
              " {'Stars': 3.5,\n",
              "  'restaurant_name': 'Pizza Days',\n",
              "  'reviewer_profile': 'https://www.yelp.com/user_details?userid=lqR3P2AD_p_jcAWwJ8Im6A',\n",
              "  'viollevel': 2,\n",
              "  'zip': '02134'},\n",
              " {'Stars': 3.5,\n",
              "  'restaurant_name': 'Yamato II',\n",
              "  'reviewer_profile': 'https://www.yelp.com/user_details?userid=PGD0YwdRS57zAXZmj1OkQQ',\n",
              "  'viollevel': 1,\n",
              "  'zip': '02116'},\n",
              " {'Stars': 3.5,\n",
              "  'restaurant_name': 'The Bebop',\n",
              "  'reviewer_profile': 'https://www.yelp.com/user_details?userid=KpAIfnPEeRiBHEpa5i8gFA',\n",
              "  'viollevel': 1,\n",
              "  'zip': '02215'},\n",
              " {'Stars': 3.0,\n",
              "  'restaurant_name': 'Bella Vista',\n",
              "  'reviewer_profile': 'https://www.yelp.com/user_details?userid=yzc6_9a-HHA5ybagjO8XeA',\n",
              "  'viollevel': 3,\n",
              "  'zip': '02113'},\n",
              " {'Stars': 5.0,\n",
              "  'restaurant_name': \"Pauli's\",\n",
              "  'reviewer_profile': 'https://www.yelp.com/user_details?userid=nfFrn_Zamh_Wgd2WYmXOlg',\n",
              "  'viollevel': 2,\n",
              "  'zip': '02113'},\n",
              " {'Stars': 5.0,\n",
              "  'restaurant_name': 'Thinking Cup',\n",
              "  'reviewer_profile': 'https://www.yelp.com/user_details?userid=VIul_H16C51Xvk2AVE7w-Q',\n",
              "  'viollevel': 1,\n",
              "  'zip': '02113'},\n",
              " {'Stars': 4.0,\n",
              "  'restaurant_name': 'Sweet Rice',\n",
              "  'reviewer_profile': 'https://www.yelp.com/user_details?userid=fvMGv5a0IQlQRcWUQZHRKA',\n",
              "  'viollevel': 1,\n",
              "  'zip': '02129'},\n",
              " {'Stars': 4.5,\n",
              "  'restaurant_name': \"Benevento's\",\n",
              "  'reviewer_profile': 'https://www.yelp.com/user_details?userid=49lJK3n_C75lc1PrThkyiA',\n",
              "  'viollevel': 1,\n",
              "  'zip': '02113'}]"
            ]
          },
          "metadata": {
            "tags": []
          },
          "execution_count": 853
        }
      ]
    },
    {
      "cell_type": "code",
      "metadata": {
        "id": "AK41IGLptpJH",
        "colab": {
          "base_uri": "https://localhost:8080/"
        },
        "outputId": "ea7adcbd-0e87-4246-a5b2-735c9aea49db"
      },
      "source": [
        "senti_ana.info()"
      ],
      "execution_count": null,
      "outputs": [
        {
          "output_type": "stream",
          "text": [
            "<class 'pandas.core.frame.DataFrame'>\n",
            "RangeIndex: 499 entries, 0 to 498\n",
            "Data columns (total 5 columns):\n",
            " #   Column            Non-Null Count  Dtype  \n",
            "---  ------            --------------  -----  \n",
            " 0   restaurant_name   499 non-null    object \n",
            " 1   viollevel         499 non-null    int64  \n",
            " 2   Stars             499 non-null    float64\n",
            " 3   reviewer_profile  499 non-null    object \n",
            " 4   zip               499 non-null    object \n",
            "dtypes: float64(1), int64(1), object(3)\n",
            "memory usage: 19.6+ KB\n"
          ],
          "name": "stdout"
        }
      ]
    },
    {
      "cell_type": "code",
      "metadata": {
        "id": "QmaF16mvWQUt"
      },
      "source": [
        "# Calculating score of each restaurant from Violation level and review stars"
      ],
      "execution_count": null,
      "outputs": []
    },
    {
      "cell_type": "code",
      "metadata": {
        "id": "g9MBlXuOt6XO",
        "colab": {
          "base_uri": "https://localhost:8080/"
        },
        "outputId": "81f473f1-9f43-47cb-b935-f846c1bfc1a1"
      },
      "source": [
        "senti_ana[\"score\"]=senti_ana[\"Stars\"]-senti_ana[\"viollevel\"]"
      ],
      "execution_count": null,
      "outputs": [
        {
          "output_type": "stream",
          "text": [
            "/usr/local/lib/python3.7/dist-packages/ipykernel_launcher.py:1: SettingWithCopyWarning: \n",
            "A value is trying to be set on a copy of a slice from a DataFrame.\n",
            "Try using .loc[row_indexer,col_indexer] = value instead\n",
            "\n",
            "See the caveats in the documentation: https://pandas.pydata.org/pandas-docs/stable/user_guide/indexing.html#returning-a-view-versus-a-copy\n",
            "  \"\"\"Entry point for launching an IPython kernel.\n"
          ],
          "name": "stderr"
        }
      ]
    },
    {
      "cell_type": "code",
      "metadata": {
        "id": "bOwC9rGmuXF2",
        "colab": {
          "base_uri": "https://localhost:8080/",
          "height": 204
        },
        "outputId": "299dd2e3-66ba-44b7-9066-967f1fb91afc"
      },
      "source": [
        "senti_ana.head()"
      ],
      "execution_count": null,
      "outputs": [
        {
          "output_type": "execute_result",
          "data": {
            "text/html": [
              "<div>\n",
              "<style scoped>\n",
              "    .dataframe tbody tr th:only-of-type {\n",
              "        vertical-align: middle;\n",
              "    }\n",
              "\n",
              "    .dataframe tbody tr th {\n",
              "        vertical-align: top;\n",
              "    }\n",
              "\n",
              "    .dataframe thead th {\n",
              "        text-align: right;\n",
              "    }\n",
              "</style>\n",
              "<table border=\"1\" class=\"dataframe\">\n",
              "  <thead>\n",
              "    <tr style=\"text-align: right;\">\n",
              "      <th></th>\n",
              "      <th>restaurant_name</th>\n",
              "      <th>viollevel</th>\n",
              "      <th>Stars</th>\n",
              "      <th>reviewer_profile</th>\n",
              "      <th>zip</th>\n",
              "      <th>score</th>\n",
              "    </tr>\n",
              "  </thead>\n",
              "  <tbody>\n",
              "    <tr>\n",
              "      <th>0</th>\n",
              "      <td>Piattini</td>\n",
              "      <td>1</td>\n",
              "      <td>3.0</td>\n",
              "      <td>https://www.yelp.com/user_details?userid=cfDQf...</td>\n",
              "      <td>02116</td>\n",
              "      <td>2.0</td>\n",
              "    </tr>\n",
              "    <tr>\n",
              "      <th>1</th>\n",
              "      <td>Tatte Bakery &amp; Cafe</td>\n",
              "      <td>3</td>\n",
              "      <td>3.0</td>\n",
              "      <td>https://www.yelp.com/user_details?userid=fj9oO...</td>\n",
              "      <td>02116</td>\n",
              "      <td>0.0</td>\n",
              "    </tr>\n",
              "    <tr>\n",
              "      <th>2</th>\n",
              "      <td>Pizza Days</td>\n",
              "      <td>2</td>\n",
              "      <td>3.5</td>\n",
              "      <td>https://www.yelp.com/user_details?userid=lqR3P...</td>\n",
              "      <td>02134</td>\n",
              "      <td>1.5</td>\n",
              "    </tr>\n",
              "    <tr>\n",
              "      <th>3</th>\n",
              "      <td>Yamato II</td>\n",
              "      <td>1</td>\n",
              "      <td>3.5</td>\n",
              "      <td>https://www.yelp.com/user_details?userid=PGD0Y...</td>\n",
              "      <td>02116</td>\n",
              "      <td>2.5</td>\n",
              "    </tr>\n",
              "    <tr>\n",
              "      <th>4</th>\n",
              "      <td>The Bebop</td>\n",
              "      <td>1</td>\n",
              "      <td>3.5</td>\n",
              "      <td>https://www.yelp.com/user_details?userid=KpAIf...</td>\n",
              "      <td>02215</td>\n",
              "      <td>2.5</td>\n",
              "    </tr>\n",
              "  </tbody>\n",
              "</table>\n",
              "</div>"
            ],
            "text/plain": [
              "       restaurant_name  viollevel  ...    zip score\n",
              "0             Piattini          1  ...  02116   2.0\n",
              "1  Tatte Bakery & Cafe          3  ...  02116   0.0\n",
              "2           Pizza Days          2  ...  02134   1.5\n",
              "3            Yamato II          1  ...  02116   2.5\n",
              "4            The Bebop          1  ...  02215   2.5\n",
              "\n",
              "[5 rows x 6 columns]"
            ]
          },
          "metadata": {
            "tags": []
          },
          "execution_count": 857
        }
      ]
    },
    {
      "cell_type": "code",
      "metadata": {
        "id": "1Ap1Z4L6mV4s"
      },
      "source": [
        "spark = SparkSession \\\n",
        "    .builder \\\n",
        "    .appName(\"how to read csv file\") \\\n",
        "    .getOrCreate()\n"
      ],
      "execution_count": null,
      "outputs": []
    },
    {
      "cell_type": "code",
      "metadata": {
        "id": "F3GqlCa3lu19"
      },
      "source": [
        "sparkDF=spark.createDataFrame(senti_ana)"
      ],
      "execution_count": null,
      "outputs": []
    },
    {
      "cell_type": "code",
      "metadata": {
        "id": "qEVXXPcQ0YRw",
        "colab": {
          "base_uri": "https://localhost:8080/"
        },
        "outputId": "5e4c175e-5db3-41cd-f1b1-0471f11689e2"
      },
      "source": [
        "sparkDF.show(5)"
      ],
      "execution_count": null,
      "outputs": [
        {
          "output_type": "stream",
          "text": [
            "+-------------------+---------+-----+--------------------+-----+-----+\n",
            "|    restaurant_name|viollevel|Stars|    reviewer_profile|  zip|score|\n",
            "+-------------------+---------+-----+--------------------+-----+-----+\n",
            "|           Piattini|        1|  3.0|https://www.yelp....|02116|  2.0|\n",
            "|Tatte Bakery & Cafe|        3|  3.0|https://www.yelp....|02116|  0.0|\n",
            "|         Pizza Days|        2|  3.5|https://www.yelp....|02134|  1.5|\n",
            "|          Yamato II|        1|  3.5|https://www.yelp....|02116|  2.5|\n",
            "|          The Bebop|        1|  3.5|https://www.yelp....|02215|  2.5|\n",
            "+-------------------+---------+-----+--------------------+-----+-----+\n",
            "only showing top 5 rows\n",
            "\n"
          ],
          "name": "stdout"
        }
      ]
    },
    {
      "cell_type": "code",
      "metadata": {
        "id": "tBd_e1wE47q-",
        "colab": {
          "base_uri": "https://localhost:8080/"
        },
        "outputId": "442484d3-807f-4cbd-e452-846b41119f13"
      },
      "source": [
        "sparkDF.printSchema()"
      ],
      "execution_count": null,
      "outputs": [
        {
          "output_type": "stream",
          "text": [
            "root\n",
            " |-- restaurant_name: string (nullable = true)\n",
            " |-- viollevel: long (nullable = true)\n",
            " |-- Stars: double (nullable = true)\n",
            " |-- reviewer_profile: string (nullable = true)\n",
            " |-- zip: string (nullable = true)\n",
            " |-- score: double (nullable = true)\n",
            "\n"
          ],
          "name": "stdout"
        }
      ]
    },
    {
      "cell_type": "code",
      "metadata": {
        "id": "f3Fftm9a6y2h"
      },
      "source": [
        "from pyspark.sql.functions import udf"
      ],
      "execution_count": null,
      "outputs": []
    },
    {
      "cell_type": "code",
      "metadata": {
        "id": "FNegyi-wWdyn"
      },
      "source": [
        "# Classification of Restaurants status for recommendations "
      ],
      "execution_count": null,
      "outputs": []
    },
    {
      "cell_type": "code",
      "metadata": {
        "id": "_y-CmjaC659G"
      },
      "source": [
        "def score_to_review(value):\n",
        "   if  value >= 3: \n",
        "     return 'Highly recommended '\n",
        "   elif value >=2 and value <3: \n",
        "     return 'Average'\n",
        "   elif value >=1 and value <2:\n",
        "     return 'Bad'\n",
        "   else:\n",
        "     return 'Never Visit'"
      ],
      "execution_count": null,
      "outputs": []
    },
    {
      "cell_type": "code",
      "metadata": {
        "id": "i2FC1v6T7EUy",
        "colab": {
          "base_uri": "https://localhost:8080/"
        },
        "outputId": "681b8a36-5406-4d1c-8a49-0114101461be"
      },
      "source": [
        "udfValueToGrade = udf(score_to_review)\n",
        "restdata = sparkDF.withColumn(\"report\", udfValueToGrade(\"score\"))\n",
        "restdata.show()"
      ],
      "execution_count": null,
      "outputs": [
        {
          "output_type": "stream",
          "text": [
            "+--------------------+---------+-----+--------------------+-----+-----+-------------------+\n",
            "|     restaurant_name|viollevel|Stars|    reviewer_profile|  zip|score|             report|\n",
            "+--------------------+---------+-----+--------------------+-----+-----+-------------------+\n",
            "|            Piattini|        1|  3.0|https://www.yelp....|02116|  2.0|            Average|\n",
            "| Tatte Bakery & Cafe|        3|  3.0|https://www.yelp....|02116|  0.0|        Never Visit|\n",
            "|          Pizza Days|        2|  3.5|https://www.yelp....|02134|  1.5|                Bad|\n",
            "|           Yamato II|        1|  3.5|https://www.yelp....|02116|  2.5|            Average|\n",
            "|           The Bebop|        1|  3.5|https://www.yelp....|02215|  2.5|            Average|\n",
            "|         Bella Vista|        3|  3.0|https://www.yelp....|02113|  0.0|        Never Visit|\n",
            "|             Pauli's|        2|  5.0|https://www.yelp....|02113|  3.0|Highly recommended |\n",
            "|        Thinking Cup|        1|  5.0|https://www.yelp....|02113|  4.0|Highly recommended |\n",
            "|          Sweet Rice|        1|  4.0|https://www.yelp....|02129|  3.0|Highly recommended |\n",
            "|         Benevento's|        1|  4.5|https://www.yelp....|02113|  3.5|Highly recommended |\n",
            "|     Kaju Tofu House|        1|  3.0|https://www.yelp....|02134|  2.0|            Average|\n",
            "|     Anna's Taqueria|        3|  4.0|https://www.yelp....|02114|  1.0|                Bad|\n",
            "|            Kamakura|        2|  4.0|https://www.yelp....|02109|  2.0|            Average|\n",
            "|        Tasty Burger|        1|  3.0|https://www.yelp....|02215|  2.0|            Average|\n",
            "|               Shojo|        1|  4.0|https://www.yelp....|02111|  3.0|Highly recommended |\n",
            "|   Seoul Soulongtang|        1|  5.0|https://www.yelp....|02134|  4.0|Highly recommended |\n",
            "|Chipotle Mexican ...|        1|  3.0|https://www.yelp....|02116|  2.0|            Average|\n",
            "|           Tasty Pot|        1|  3.0|https://www.yelp....|02134|  2.0|            Average|\n",
            "|Island Creek Oyst...|        1|  3.0|https://www.yelp....|02215|  2.0|            Average|\n",
            "|              Locale|        1|  4.5|https://www.yelp....|02113|  3.5|Highly recommended |\n",
            "+--------------------+---------+-----+--------------------+-----+-----+-------------------+\n",
            "only showing top 20 rows\n",
            "\n"
          ],
          "name": "stdout"
        }
      ]
    },
    {
      "cell_type": "code",
      "metadata": {
        "id": "Dg--ToZZWpyw"
      },
      "source": [
        "# Dataframe column to rdd"
      ],
      "execution_count": null,
      "outputs": []
    },
    {
      "cell_type": "code",
      "metadata": {
        "id": "xiRne9ej8F5y"
      },
      "source": [
        "views_rdd = restdata.select(\"report\").rdd.flatMap(lambda x:x)"
      ],
      "execution_count": null,
      "outputs": []
    },
    {
      "cell_type": "code",
      "metadata": {
        "id": "tBxUVTOn9wCz"
      },
      "source": [
        "views_rdd1=views_rdd.map(lambda word : (word,1))"
      ],
      "execution_count": null,
      "outputs": []
    },
    {
      "cell_type": "code",
      "metadata": {
        "id": "e-U2x0Hw_s54",
        "colab": {
          "base_uri": "https://localhost:8080/"
        },
        "outputId": "141488ed-1a93-4267-f93b-a0b7e9cefec5"
      },
      "source": [
        "views_rdd1.take(2)"
      ],
      "execution_count": null,
      "outputs": [
        {
          "output_type": "execute_result",
          "data": {
            "text/plain": [
              "[('Average', 1), ('Never Visit', 1)]"
            ]
          },
          "metadata": {
            "tags": []
          },
          "execution_count": 869
        }
      ]
    },
    {
      "cell_type": "code",
      "metadata": {
        "id": "WxIXnpk5_uw2"
      },
      "source": [
        "views_rdd2=views_rdd1.reduceByKey(lambda x,y : (x+y))"
      ],
      "execution_count": null,
      "outputs": []
    },
    {
      "cell_type": "code",
      "metadata": {
        "id": "NTM0NmmZ_2oq"
      },
      "source": [
        "viz_list=views_rdd2.take(4)"
      ],
      "execution_count": null,
      "outputs": []
    },
    {
      "cell_type": "code",
      "metadata": {
        "id": "-p8CKxJeBF_j"
      },
      "source": [
        "list_report=[]\n",
        "list_count=[]\n",
        "for i in range (0,len(viz_list)):\n",
        "  list_report.append(viz_list[i][0])\n",
        "  list_count.append(viz_list[i][1])"
      ],
      "execution_count": null,
      "outputs": []
    },
    {
      "cell_type": "markdown",
      "metadata": {
        "id": "TXsgsOblW-wF"
      },
      "source": [
        "# Outcomes plot"
      ]
    },
    {
      "cell_type": "code",
      "metadata": {
        "id": "pZSLtdfgBFC6"
      },
      "source": [
        "plot_df=pd.DataFrame()\n",
        "plot_df[\"Report\"]=list_report\n",
        "plot_df[\"Count\"]=list_count"
      ],
      "execution_count": null,
      "outputs": []
    },
    {
      "cell_type": "code",
      "metadata": {
        "id": "HvmCDuYhDBrd",
        "colab": {
          "base_uri": "https://localhost:8080/",
          "height": 173
        },
        "outputId": "df063c12-7e0e-4b2a-a22a-96061ae7556f"
      },
      "source": [
        "plot_df"
      ],
      "execution_count": null,
      "outputs": [
        {
          "output_type": "execute_result",
          "data": {
            "text/html": [
              "<div>\n",
              "<style scoped>\n",
              "    .dataframe tbody tr th:only-of-type {\n",
              "        vertical-align: middle;\n",
              "    }\n",
              "\n",
              "    .dataframe tbody tr th {\n",
              "        vertical-align: top;\n",
              "    }\n",
              "\n",
              "    .dataframe thead th {\n",
              "        text-align: right;\n",
              "    }\n",
              "</style>\n",
              "<table border=\"1\" class=\"dataframe\">\n",
              "  <thead>\n",
              "    <tr style=\"text-align: right;\">\n",
              "      <th></th>\n",
              "      <th>Report</th>\n",
              "      <th>Count</th>\n",
              "    </tr>\n",
              "  </thead>\n",
              "  <tbody>\n",
              "    <tr>\n",
              "      <th>0</th>\n",
              "      <td>Bad</td>\n",
              "      <td>100</td>\n",
              "    </tr>\n",
              "    <tr>\n",
              "      <th>1</th>\n",
              "      <td>Average</td>\n",
              "      <td>179</td>\n",
              "    </tr>\n",
              "    <tr>\n",
              "      <th>2</th>\n",
              "      <td>Never Visit</td>\n",
              "      <td>47</td>\n",
              "    </tr>\n",
              "    <tr>\n",
              "      <th>3</th>\n",
              "      <td>Highly recommended</td>\n",
              "      <td>173</td>\n",
              "    </tr>\n",
              "  </tbody>\n",
              "</table>\n",
              "</div>"
            ],
            "text/plain": [
              "                Report  Count\n",
              "0                  Bad    100\n",
              "1              Average    179\n",
              "2          Never Visit     47\n",
              "3  Highly recommended     173"
            ]
          },
          "metadata": {
            "tags": []
          },
          "execution_count": 874
        }
      ]
    },
    {
      "cell_type": "code",
      "metadata": {
        "id": "VWJBWDLsED1-",
        "colab": {
          "base_uri": "https://localhost:8080/",
          "height": 543
        },
        "outputId": "8405f657-3680-406d-ed54-2a50a4db9594"
      },
      "source": [
        "plot_df.plot.bar(x='Report',rot=0,figsize=(20,10))\n",
        "plt.xticks(fontsize=20)\n",
        "plt.show()"
      ],
      "execution_count": null,
      "outputs": [
        {
          "output_type": "display_data",
          "data": {
            "image/png": "[encoded data removed]",
            "text/plain": [
              "<Figure size 1440x720 with 1 Axes>"
            ]
          },
          "metadata": {
            "tags": [],
            "needs_background": "light"
          }
        }
      ]
    },
    {
      "cell_type": "code",
      "metadata": {
        "id": "QgccJQO9Em_-"
      },
      "source": [
        "pandasDF = restdata.toPandas()"
      ],
      "execution_count": null,
      "outputs": []
    },
    {
      "cell_type": "code",
      "metadata": {
        "id": "juY_XO_UE00Q",
        "colab": {
          "base_uri": "https://localhost:8080/",
          "height": 204
        },
        "outputId": "61a785c9-87a1-4f2d-ff12-6cb6e60d9c2a"
      },
      "source": [
        "pandasDF.head()"
      ],
      "execution_count": null,
      "outputs": [
        {
          "output_type": "execute_result",
          "data": {
            "text/html": [
              "<div>\n",
              "<style scoped>\n",
              "    .dataframe tbody tr th:only-of-type {\n",
              "        vertical-align: middle;\n",
              "    }\n",
              "\n",
              "    .dataframe tbody tr th {\n",
              "        vertical-align: top;\n",
              "    }\n",
              "\n",
              "    .dataframe thead th {\n",
              "        text-align: right;\n",
              "    }\n",
              "</style>\n",
              "<table border=\"1\" class=\"dataframe\">\n",
              "  <thead>\n",
              "    <tr style=\"text-align: right;\">\n",
              "      <th></th>\n",
              "      <th>restaurant_name</th>\n",
              "      <th>viollevel</th>\n",
              "      <th>Stars</th>\n",
              "      <th>reviewer_profile</th>\n",
              "      <th>zip</th>\n",
              "      <th>score</th>\n",
              "      <th>report</th>\n",
              "    </tr>\n",
              "  </thead>\n",
              "  <tbody>\n",
              "    <tr>\n",
              "      <th>0</th>\n",
              "      <td>Piattini</td>\n",
              "      <td>1</td>\n",
              "      <td>3.0</td>\n",
              "      <td>https://www.yelp.com/user_details?userid=cfDQf...</td>\n",
              "      <td>02116</td>\n",
              "      <td>2.0</td>\n",
              "      <td>Average</td>\n",
              "    </tr>\n",
              "    <tr>\n",
              "      <th>1</th>\n",
              "      <td>Tatte Bakery &amp; Cafe</td>\n",
              "      <td>3</td>\n",
              "      <td>3.0</td>\n",
              "      <td>https://www.yelp.com/user_details?userid=fj9oO...</td>\n",
              "      <td>02116</td>\n",
              "      <td>0.0</td>\n",
              "      <td>Never Visit</td>\n",
              "    </tr>\n",
              "    <tr>\n",
              "      <th>2</th>\n",
              "      <td>Pizza Days</td>\n",
              "      <td>2</td>\n",
              "      <td>3.5</td>\n",
              "      <td>https://www.yelp.com/user_details?userid=lqR3P...</td>\n",
              "      <td>02134</td>\n",
              "      <td>1.5</td>\n",
              "      <td>Bad</td>\n",
              "    </tr>\n",
              "    <tr>\n",
              "      <th>3</th>\n",
              "      <td>Yamato II</td>\n",
              "      <td>1</td>\n",
              "      <td>3.5</td>\n",
              "      <td>https://www.yelp.com/user_details?userid=PGD0Y...</td>\n",
              "      <td>02116</td>\n",
              "      <td>2.5</td>\n",
              "      <td>Average</td>\n",
              "    </tr>\n",
              "    <tr>\n",
              "      <th>4</th>\n",
              "      <td>The Bebop</td>\n",
              "      <td>1</td>\n",
              "      <td>3.5</td>\n",
              "      <td>https://www.yelp.com/user_details?userid=KpAIf...</td>\n",
              "      <td>02215</td>\n",
              "      <td>2.5</td>\n",
              "      <td>Average</td>\n",
              "    </tr>\n",
              "  </tbody>\n",
              "</table>\n",
              "</div>"
            ],
            "text/plain": [
              "       restaurant_name  viollevel  Stars  ...    zip score       report\n",
              "0             Piattini          1    3.0  ...  02116   2.0      Average\n",
              "1  Tatte Bakery & Cafe          3    3.0  ...  02116   0.0  Never Visit\n",
              "2           Pizza Days          2    3.5  ...  02134   1.5          Bad\n",
              "3            Yamato II          1    3.5  ...  02116   2.5      Average\n",
              "4            The Bebop          1    3.5  ...  02215   2.5      Average\n",
              "\n",
              "[5 rows x 7 columns]"
            ]
          },
          "metadata": {
            "tags": []
          },
          "execution_count": 877
        }
      ]
    },
    {
      "cell_type": "code",
      "metadata": {
        "id": "lWbdNiX_L0xt",
        "colab": {
          "base_uri": "https://localhost:8080/"
        },
        "outputId": "e7fd8652-e10b-41bf-e852-9e058818c864"
      },
      "source": [
        "pandasDF['zip'].unique()"
      ],
      "execution_count": null,
      "outputs": [
        {
          "output_type": "execute_result",
          "data": {
            "text/plain": [
              "array(['02116', '02134', '02215', '02113', '02129', '02114', '02109',\n",
              "       '02111', '02130', '02135', '02120', '02210', '02118', '02131',\n",
              "       '02108', '02115', '02110', '02128', '02127', '02122', '02124',\n",
              "       '02136', '02467', '02199', '02132', '02140', '02125', '02119',\n",
              "       '02126', '02121'], dtype=object)"
            ]
          },
          "metadata": {
            "tags": []
          },
          "execution_count": 878
        }
      ]
    },
    {
      "cell_type": "markdown",
      "metadata": {
        "id": "DcuW0u0CXIj7"
      },
      "source": [
        "# Conclusion and results"
      ]
    },
    {
      "cell_type": "markdown",
      "metadata": {
        "id": "5qCx9JsZXRmy"
      },
      "source": [
        "Function that returs Restaurants with their staus as recommendations for an input zip code location"
      ]
    },
    {
      "cell_type": "code",
      "metadata": {
        "id": "fGNsoZTME227"
      },
      "source": [
        "def rest_report(zip,df=pandasDF):\n",
        "   df_zip=df[df['zip']==zip]\n",
        "   df_zip=df_zip.reset_index(drop=True)\n",
        "   df_zip=df_zip[['restaurant_name','report']]\n",
        "   print(\"Restaurant and  their Statuts at Location(zipcode):\"+str(zip))\n",
        "   for i in range (0,df_zip.shape[0]):\n",
        "     print(df_zip['restaurant_name'].iloc[i]+\" \"+':'+\" \"+df_zip['report'].iloc[i])\n",
        "   #return df_zip\n",
        "\n"
      ],
      "execution_count": null,
      "outputs": []
    },
    {
      "cell_type": "code",
      "metadata": {
        "id": "PhpdC2lFGrm8",
        "colab": {
          "base_uri": "https://localhost:8080/"
        },
        "outputId": "f62727bb-eccd-4d47-97fd-f9b0fec2c6f8"
      },
      "source": [
        "rest_report('02111',pandasDF)"
      ],
      "execution_count": null,
      "outputs": [
        {
          "output_type": "stream",
          "text": [
            "Restaurant and  their Statuts at Location(zipcode):02111\n",
            "Shojo : Highly recommended \n",
            "Quic Pic BBQ : Highly recommended \n",
            "Boston Kitchen Pizza : Never Visit\n",
            "Pho Pasteur : Average\n",
            "Back Deck : Bad\n",
            "Spicy World : Never Visit\n",
            "Stoddard's Fine Food & Ale : Bad\n",
            "Hong Kong Eatery : Highly recommended \n",
            "Five Spices House : Bad\n",
            "China Pearl Restaurant : Average\n",
            "Wing's Kitchen : Highly recommended \n",
            "Cafe 26 : Highly recommended \n",
            "Jook Sing Cafe : Highly recommended \n",
            "Irashai Sushi and Teriyaki : Highly recommended \n",
            "Clay Pot Cafe : Average\n",
            "Double Chin : Average\n",
            "Potluck Cafe : Bad\n",
            "Bubor Cha Cha : Bad\n",
            "Tora Japanese Restaurant : Highly recommended \n",
            "Hot Pot Buffet : Highly recommended \n",
            "Moon Flower House : Highly recommended \n",
            "Chinatown Cafe : Highly recommended \n",
            "Chicken and Rice Guys : Highly recommended \n",
            "Shabu-Zen : Highly recommended \n",
            "Su Su Gourmet : Bad\n",
            "Dumpling King : Average\n",
            "49 Social : Highly recommended \n",
            "Gourmet China House : Never Visit\n",
            "Kaze Shabu Shabu : Average\n",
            "Bean & Leaf Cafe : Average\n",
            "Boom Crispy Chicken : Average\n",
            "Kneeland Cafe : Highly recommended \n",
            "Pita Kabob : Highly recommended \n"
          ],
          "name": "stdout"
        }
      ]
    }
  ]
}